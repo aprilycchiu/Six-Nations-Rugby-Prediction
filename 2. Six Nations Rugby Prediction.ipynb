{
 "cells": [
  {
   "cell_type": "markdown",
   "metadata": {},
   "source": [
    "# Analysis"
   ]
  },
  {
   "cell_type": "markdown",
   "metadata": {},
   "source": [
    "I use **HomeTeam, AwayTeam and Score** variables to calculate the winning percentage. After some simple data preparation, we can calculate the winning percentage for each team as they were playing at home or away."
   ]
  },
  {
   "cell_type": "markdown",
   "metadata": {},
   "source": [
    "## Round #1\n",
    "\n",
    "France v. **Wales** / **Scotland** v. Italy / **Ireland** v. England"
   ]
  },
  {
   "cell_type": "code",
   "execution_count": 82,
   "metadata": {},
   "outputs": [
    {
     "data": {
      "text/html": [
       "<div>\n",
       "<style scoped>\n",
       "    .dataframe tbody tr th:only-of-type {\n",
       "        vertical-align: middle;\n",
       "    }\n",
       "\n",
       "    .dataframe tbody tr th {\n",
       "        vertical-align: top;\n",
       "    }\n",
       "\n",
       "    .dataframe thead th {\n",
       "        text-align: right;\n",
       "    }\n",
       "</style>\n",
       "<table border=\"1\" class=\"dataframe\">\n",
       "  <thead>\n",
       "    <tr style=\"text-align: right;\">\n",
       "      <th></th>\n",
       "      <th>HomeTeam</th>\n",
       "      <th>AwayTeam</th>\n",
       "      <th>Home Winning%</th>\n",
       "    </tr>\n",
       "  </thead>\n",
       "  <tbody>\n",
       "    <tr>\n",
       "      <th>0</th>\n",
       "      <td>France</td>\n",
       "      <td>Wales</td>\n",
       "      <td>0.57</td>\n",
       "    </tr>\n",
       "    <tr>\n",
       "      <th>1</th>\n",
       "      <td>Scotland</td>\n",
       "      <td>Italy</td>\n",
       "      <td>0.54</td>\n",
       "    </tr>\n",
       "    <tr>\n",
       "      <th>2</th>\n",
       "      <td>Ireland</td>\n",
       "      <td>England</td>\n",
       "      <td>0.67</td>\n",
       "    </tr>\n",
       "  </tbody>\n",
       "</table>\n",
       "</div>"
      ],
      "text/plain": [
       "   HomeTeam AwayTeam  Home Winning%\n",
       "0    France    Wales           0.57\n",
       "1  Scotland    Italy           0.54\n",
       "2   Ireland  England           0.67"
      ]
     },
     "execution_count": 82,
     "metadata": {},
     "output_type": "execute_result"
    }
   ],
   "source": [
    "HomeTeam = pd.DataFrame({'HomeTeam': ['France','Scotland','Ireland']})\n",
    "AwayTeam = pd.DataFrame({'AwayTeam': ['Wales','Italy','England']})\n",
    "Winning = pd.DataFrame({'Home Winning%': [0.57,0.54,0.67]})\n",
    "HomeTeam.join(AwayTeam)\n",
    "HomeTeam.join([AwayTeam,Winning])"
   ]
  },
  {
   "cell_type": "markdown",
   "metadata": {},
   "source": [
    "According to the calculation, France and Wales both did great when they played against each other. Also, Scotland and Italy had the same situation. After finding some reference information from the Internet, we can find that **Wales, Scotland and Ireland** are more likey to win the matchup in  the round #1."
   ]
  },
  {
   "cell_type": "markdown",
   "metadata": {},
   "source": [
    "## Round #2\n",
    "\n",
    "Scotland v. **Ireland** / Italy v. **Wales** / **England** v. France"
   ]
  },
  {
   "cell_type": "code",
   "execution_count": 83,
   "metadata": {},
   "outputs": [
    {
     "data": {
      "text/html": [
       "<div>\n",
       "<style scoped>\n",
       "    .dataframe tbody tr th:only-of-type {\n",
       "        vertical-align: middle;\n",
       "    }\n",
       "\n",
       "    .dataframe tbody tr th {\n",
       "        vertical-align: top;\n",
       "    }\n",
       "\n",
       "    .dataframe thead th {\n",
       "        text-align: right;\n",
       "    }\n",
       "</style>\n",
       "<table border=\"1\" class=\"dataframe\">\n",
       "  <thead>\n",
       "    <tr style=\"text-align: right;\">\n",
       "      <th></th>\n",
       "      <th>HomeTeam</th>\n",
       "      <th>AwayTeam</th>\n",
       "      <th>Home Winning%</th>\n",
       "    </tr>\n",
       "  </thead>\n",
       "  <tbody>\n",
       "    <tr>\n",
       "      <th>0</th>\n",
       "      <td>Scotland</td>\n",
       "      <td>Ireland</td>\n",
       "      <td>0.47</td>\n",
       "    </tr>\n",
       "    <tr>\n",
       "      <th>1</th>\n",
       "      <td>Italy</td>\n",
       "      <td>Wales</td>\n",
       "      <td>0.17</td>\n",
       "    </tr>\n",
       "    <tr>\n",
       "      <th>2</th>\n",
       "      <td>England</td>\n",
       "      <td>France</td>\n",
       "      <td>0.66</td>\n",
       "    </tr>\n",
       "  </tbody>\n",
       "</table>\n",
       "</div>"
      ],
      "text/plain": [
       "   HomeTeam AwayTeam  Home Winning%\n",
       "0  Scotland  Ireland           0.47\n",
       "1     Italy    Wales           0.17\n",
       "2   England   France           0.66"
      ]
     },
     "execution_count": 83,
     "metadata": {},
     "output_type": "execute_result"
    }
   ],
   "source": [
    "HomeTeam = pd.DataFrame({'HomeTeam': ['Scotland','Italy','England']})\n",
    "AwayTeam = pd.DataFrame({'AwayTeam': ['Ireland','Wales','France']})\n",
    "Winning = pd.DataFrame({'Home Winning%': [0.47,0.17,0.66]})\n",
    "HomeTeam.join(AwayTeam)\n",
    "HomeTeam.join([AwayTeam,Winning])"
   ]
  },
  {
   "cell_type": "markdown",
   "metadata": {},
   "source": [
    "Same, Scotland and Ireland both did great while playing against each other. Neverthless, Wales and England have high probabilities of winning this matchup. After analyzing, we can predict that **Ireland, Wales and England** are more likey to win the matchup in the round #2."
   ]
  },
  {
   "cell_type": "markdown",
   "metadata": {},
   "source": [
    "## Round #3\n",
    "\n",
    "France v. **Scotland** / Wales v. **England** / Italy v. **Ireland**"
   ]
  },
  {
   "cell_type": "code",
   "execution_count": 87,
   "metadata": {},
   "outputs": [
    {
     "data": {
      "text/html": [
       "<div>\n",
       "<style scoped>\n",
       "    .dataframe tbody tr th:only-of-type {\n",
       "        vertical-align: middle;\n",
       "    }\n",
       "\n",
       "    .dataframe tbody tr th {\n",
       "        vertical-align: top;\n",
       "    }\n",
       "\n",
       "    .dataframe thead th {\n",
       "        text-align: right;\n",
       "    }\n",
       "</style>\n",
       "<table border=\"1\" class=\"dataframe\">\n",
       "  <thead>\n",
       "    <tr style=\"text-align: right;\">\n",
       "      <th></th>\n",
       "      <th>HomeTeam</th>\n",
       "      <th>AwayTeam</th>\n",
       "      <th>Home Winning%</th>\n",
       "    </tr>\n",
       "  </thead>\n",
       "  <tbody>\n",
       "    <tr>\n",
       "      <th>0</th>\n",
       "      <td>France</td>\n",
       "      <td>Scotland</td>\n",
       "      <td>0.73</td>\n",
       "    </tr>\n",
       "    <tr>\n",
       "      <th>1</th>\n",
       "      <td>Wales</td>\n",
       "      <td>England</td>\n",
       "      <td>0.43</td>\n",
       "    </tr>\n",
       "    <tr>\n",
       "      <th>2</th>\n",
       "      <td>Italy</td>\n",
       "      <td>Ireland</td>\n",
       "      <td>0.27</td>\n",
       "    </tr>\n",
       "  </tbody>\n",
       "</table>\n",
       "</div>"
      ],
      "text/plain": [
       "  HomeTeam  AwayTeam  Home Winning%\n",
       "0   France  Scotland           0.73\n",
       "1    Wales   England           0.43\n",
       "2    Italy   Ireland           0.27"
      ]
     },
     "execution_count": 87,
     "metadata": {},
     "output_type": "execute_result"
    }
   ],
   "source": [
    "HomeTeam = pd.DataFrame({'HomeTeam': ['France','Wales','Italy']})\n",
    "AwayTeam = pd.DataFrame({'AwayTeam': ['Scotland','England','Ireland']})\n",
    "Winning = pd.DataFrame({'Home Winning%': [0.73,0.43,0.27]})\n",
    "HomeTeam.join(AwayTeam)\n",
    "HomeTeam.join([AwayTeam,Winning])"
   ]
  },
  {
   "cell_type": "markdown",
   "metadata": {},
   "source": [
    "Although France won most of the matchups as playing against Scoland, according to the line plot, we can find out that they both did great in the past 5 years. On the other hand, there're obvious results to the two remaining matchups. we can therefore predict that **Scotland, England and Ireland** will win the matchup in the round #3."
   ]
  },
  {
   "cell_type": "markdown",
   "metadata": {},
   "source": [
    "## Round #4\n",
    "\n",
    "Scotland v. **Wales** / **England** v. Italy / **Ireland** v. France"
   ]
  },
  {
   "cell_type": "code",
   "execution_count": 88,
   "metadata": {},
   "outputs": [
    {
     "data": {
      "text/html": [
       "<div>\n",
       "<style scoped>\n",
       "    .dataframe tbody tr th:only-of-type {\n",
       "        vertical-align: middle;\n",
       "    }\n",
       "\n",
       "    .dataframe tbody tr th {\n",
       "        vertical-align: top;\n",
       "    }\n",
       "\n",
       "    .dataframe thead th {\n",
       "        text-align: right;\n",
       "    }\n",
       "</style>\n",
       "<table border=\"1\" class=\"dataframe\">\n",
       "  <thead>\n",
       "    <tr style=\"text-align: right;\">\n",
       "      <th></th>\n",
       "      <th>HomeTeam</th>\n",
       "      <th>AwayTeam</th>\n",
       "      <th>Home Winning%</th>\n",
       "    </tr>\n",
       "  </thead>\n",
       "  <tbody>\n",
       "    <tr>\n",
       "      <th>0</th>\n",
       "      <td>Scotland</td>\n",
       "      <td>Wales</td>\n",
       "      <td>0.26</td>\n",
       "    </tr>\n",
       "    <tr>\n",
       "      <th>1</th>\n",
       "      <td>England</td>\n",
       "      <td>Italy</td>\n",
       "      <td>1.00</td>\n",
       "    </tr>\n",
       "    <tr>\n",
       "      <th>2</th>\n",
       "      <td>Ireland</td>\n",
       "      <td>France</td>\n",
       "      <td>0.30</td>\n",
       "    </tr>\n",
       "  </tbody>\n",
       "</table>\n",
       "</div>"
      ],
      "text/plain": [
       "   HomeTeam AwayTeam  Home Winning%\n",
       "0  Scotland    Wales           0.26\n",
       "1   England    Italy           1.00\n",
       "2   Ireland   France           0.30"
      ]
     },
     "execution_count": 88,
     "metadata": {},
     "output_type": "execute_result"
    }
   ],
   "source": [
    "HomeTeam = pd.DataFrame({'HomeTeam': ['Scotland','England','Ireland']})\n",
    "AwayTeam = pd.DataFrame({'AwayTeam': ['Wales','Italy','France']})\n",
    "Winning = pd.DataFrame({'Home Winning%': [0.26,1.00,0.30]})\n",
    "HomeTeam.join(AwayTeam)\n",
    "HomeTeam.join([AwayTeam,Winning])"
   ]
  },
  {
   "cell_type": "markdown",
   "metadata": {},
   "source": [
    "From the result as above, we can find that **Wales, England and Ireland** are apperently going to win in this matchup."
   ]
  },
  {
   "cell_type": "markdown",
   "metadata": {},
   "source": [
    "## Round #5\n",
    "\n",
    "Italy v. **France** / **Wales** v. Ireland / **England** v. Scotland"
   ]
  },
  {
   "cell_type": "code",
   "execution_count": 89,
   "metadata": {
    "scrolled": true
   },
   "outputs": [
    {
     "data": {
      "text/html": [
       "<div>\n",
       "<style scoped>\n",
       "    .dataframe tbody tr th:only-of-type {\n",
       "        vertical-align: middle;\n",
       "    }\n",
       "\n",
       "    .dataframe tbody tr th {\n",
       "        vertical-align: top;\n",
       "    }\n",
       "\n",
       "    .dataframe thead th {\n",
       "        text-align: right;\n",
       "    }\n",
       "</style>\n",
       "<table border=\"1\" class=\"dataframe\">\n",
       "  <thead>\n",
       "    <tr style=\"text-align: right;\">\n",
       "      <th></th>\n",
       "      <th>HomeTeam</th>\n",
       "      <th>AwayTeam</th>\n",
       "      <th>Home Winning%</th>\n",
       "    </tr>\n",
       "  </thead>\n",
       "  <tbody>\n",
       "    <tr>\n",
       "      <th>0</th>\n",
       "      <td>Italy</td>\n",
       "      <td>France</td>\n",
       "      <td>0.04</td>\n",
       "    </tr>\n",
       "    <tr>\n",
       "      <th>1</th>\n",
       "      <td>Wales</td>\n",
       "      <td>Ireland</td>\n",
       "      <td>0.62</td>\n",
       "    </tr>\n",
       "    <tr>\n",
       "      <th>2</th>\n",
       "      <td>England</td>\n",
       "      <td>Scotland</td>\n",
       "      <td>0.69</td>\n",
       "    </tr>\n",
       "  </tbody>\n",
       "</table>\n",
       "</div>"
      ],
      "text/plain": [
       "  HomeTeam  AwayTeam  Home Winning%\n",
       "0    Italy    France           0.04\n",
       "1    Wales   Ireland           0.62\n",
       "2  England  Scotland           0.69"
      ]
     },
     "execution_count": 89,
     "metadata": {},
     "output_type": "execute_result"
    }
   ],
   "source": [
    "HomeTeam = pd.DataFrame({'HomeTeam': ['Italy','Wales','England']})\n",
    "AwayTeam = pd.DataFrame({'AwayTeam': ['France','Ireland','Scotland']})\n",
    "Winning = pd.DataFrame({'Home Winning%': [0.04,0.62,0.69]})\n",
    "HomeTeam.join(AwayTeam)\n",
    "HomeTeam.join([AwayTeam,Winning])"
   ]
  },
  {
   "cell_type": "markdown",
   "metadata": {},
   "source": [
    "After analyzing the historical data and finding some reference information, we can find that **France, Wales and England** are more likey to win the matchup."
   ]
  },
  {
   "cell_type": "markdown",
   "metadata": {},
   "source": [
    "# Code"
   ]
  },
  {
   "cell_type": "markdown",
   "metadata": {},
   "source": [
    "## Import packages and data"
   ]
  },
  {
   "cell_type": "code",
   "execution_count": 1,
   "metadata": {},
   "outputs": [],
   "source": [
    "import pandas as pd\n",
    "import numpy as np\n",
    "import matplotlib.pyplot as plt\n",
    "import os"
   ]
  },
  {
   "cell_type": "code",
   "execution_count": 2,
   "metadata": {},
   "outputs": [],
   "source": [
    "EngVSFra = pd.read_csv('./RugbyData_Matchup_england v france.csv')\n",
    "EngVSIre = pd.read_csv('./RugbyData_Matchup_england v ireland.csv')\n",
    "EngVSIta = pd.read_csv('./RugbyData_Matchup_england v italy.csv')\n",
    "EngVSSco = pd.read_csv('./RugbyData_Matchup_england v scotland.csv')\n",
    "EngVSWal = pd.read_csv('./RugbyData_Matchup_england v wales.csv')\n",
    "FraVSIre = pd.read_csv('./RugbyData_Matchup_france v ireland.csv')\n",
    "FraVSIta = pd.read_csv('./RugbyData_Matchup_france v italy.csv')\n",
    "FraVSSco = pd.read_csv('./RugbyData_Matchup_france v scotland.csv')\n",
    "FraVSWal = pd.read_csv('./RugbyData_Matchup_france v wales.csv')\n",
    "IreVSSco = pd.read_csv('./RugbyData_Matchup_ireland v scotland.csv')\n",
    "ItaVSIre = pd.read_csv('./RugbyData_Matchup_italy v ireland.csv')\n",
    "ItaVSSco = pd.read_csv('./RugbyData_Matchup_italy v scotland.csv')\n",
    "ItaVSWal = pd.read_csv('./RugbyData_Matchup_italy v wales.csv')\n",
    "WalVSIre = pd.read_csv('./RugbyData_Matchup_wales v ireland.csv')\n",
    "WalVSSco = pd.read_csv('./RugbyData_Matchup_wales v scotland.csv')"
   ]
  },
  {
   "cell_type": "code",
   "execution_count": 3,
   "metadata": {},
   "outputs": [],
   "source": [
    "EngVSFra['Date']=pd.to_datetime(EngVSFra['Date'])\n",
    "EngVSIre['Date']=pd.to_datetime(EngVSIre['Date'])\n",
    "EngVSIta['Date']=pd.to_datetime(EngVSIta['Date'])\n",
    "EngVSSco['Date']=pd.to_datetime(EngVSSco['Date'])\n",
    "EngVSWal['Date']=pd.to_datetime(EngVSWal['Date'])\n",
    "FraVSIre['Date']=pd.to_datetime(FraVSIre['Date'])\n",
    "FraVSIta['Date']=pd.to_datetime(FraVSIta['Date'])\n",
    "FraVSSco['Date']=pd.to_datetime(FraVSSco['Date'])\n",
    "FraVSWal['Date']=pd.to_datetime(FraVSWal['Date'])\n",
    "IreVSSco['Date']=pd.to_datetime(IreVSSco['Date'])\n",
    "ItaVSIre['Date']=pd.to_datetime(ItaVSIre['Date'])\n",
    "ItaVSSco['Date']=pd.to_datetime(ItaVSSco['Date'])\n",
    "ItaVSWal['Date']=pd.to_datetime(ItaVSWal['Date'])\n",
    "WalVSIre['Date']=pd.to_datetime(WalVSIre['Date'])\n",
    "WalVSSco['Date']=pd.to_datetime(WalVSSco['Date'])"
   ]
  },
  {
   "cell_type": "markdown",
   "metadata": {},
   "source": [
    "## Winning Percentage and Line Graph"
   ]
  },
  {
   "cell_type": "markdown",
   "metadata": {},
   "source": [
    "### England vs France"
   ]
  },
  {
   "cell_type": "code",
   "execution_count": 4,
   "metadata": {},
   "outputs": [
    {
     "data": {
      "text/plain": [
       "Index(['Unnamed: 0', 'HomeTeam', 'Score', 'AwayTeam', 'Date', 'Ground'], dtype='object')"
      ]
     },
     "execution_count": 4,
     "metadata": {},
     "output_type": "execute_result"
    }
   ],
   "source": [
    "# column names\n",
    "EngVSFra.columns"
   ]
  },
  {
   "cell_type": "code",
   "execution_count": 5,
   "metadata": {},
   "outputs": [
    {
     "data": {
      "text/plain": [
       "(104, 6)"
      ]
     },
     "execution_count": 5,
     "metadata": {},
     "output_type": "execute_result"
    }
   ],
   "source": [
    "# number of (rows, cols)\n",
    "EngVSFra.shape"
   ]
  },
  {
   "cell_type": "code",
   "execution_count": 6,
   "metadata": {
    "scrolled": false
   },
   "outputs": [
    {
     "data": {
      "text/html": [
       "<div>\n",
       "<style scoped>\n",
       "    .dataframe tbody tr th:only-of-type {\n",
       "        vertical-align: middle;\n",
       "    }\n",
       "\n",
       "    .dataframe tbody tr th {\n",
       "        vertical-align: top;\n",
       "    }\n",
       "\n",
       "    .dataframe thead th {\n",
       "        text-align: right;\n",
       "    }\n",
       "</style>\n",
       "<table border=\"1\" class=\"dataframe\">\n",
       "  <thead>\n",
       "    <tr style=\"text-align: right;\">\n",
       "      <th></th>\n",
       "      <th>Unnamed: 0</th>\n",
       "      <th>HomeTeam</th>\n",
       "      <th>Score</th>\n",
       "      <th>AwayTeam</th>\n",
       "      <th>Date</th>\n",
       "      <th>Ground</th>\n",
       "    </tr>\n",
       "  </thead>\n",
       "  <tbody>\n",
       "    <tr>\n",
       "      <th>0</th>\n",
       "      <td>0</td>\n",
       "      <td>England</td>\n",
       "      <td>23 - 13</td>\n",
       "      <td>France</td>\n",
       "      <td>2013-02-23</td>\n",
       "      <td>Twickenham London, England</td>\n",
       "    </tr>\n",
       "    <tr>\n",
       "      <th>1</th>\n",
       "      <td>1</td>\n",
       "      <td>England</td>\n",
       "      <td>12 - 19</td>\n",
       "      <td>France</td>\n",
       "      <td>2011-10-08</td>\n",
       "      <td>Eden Park Auckland, New Zealand</td>\n",
       "    </tr>\n",
       "    <tr>\n",
       "      <th>2</th>\n",
       "      <td>2</td>\n",
       "      <td>England</td>\n",
       "      <td>17 - 9</td>\n",
       "      <td>France</td>\n",
       "      <td>2011-02-26</td>\n",
       "      <td>Twickenham London, England</td>\n",
       "    </tr>\n",
       "    <tr>\n",
       "      <th>3</th>\n",
       "      <td>3</td>\n",
       "      <td>England</td>\n",
       "      <td>34 - 10</td>\n",
       "      <td>France</td>\n",
       "      <td>2009-03-15</td>\n",
       "      <td>Twickenham London, England</td>\n",
       "    </tr>\n",
       "    <tr>\n",
       "      <th>4</th>\n",
       "      <td>4</td>\n",
       "      <td>England</td>\n",
       "      <td>14 - 9</td>\n",
       "      <td>France</td>\n",
       "      <td>2007-10-13</td>\n",
       "      <td>Stade de France Paris, France</td>\n",
       "    </tr>\n",
       "  </tbody>\n",
       "</table>\n",
       "</div>"
      ],
      "text/plain": [
       "   Unnamed: 0 HomeTeam    Score AwayTeam       Date  \\\n",
       "0           0  England  23 - 13   France 2013-02-23   \n",
       "1           1  England  12 - 19   France 2011-10-08   \n",
       "2           2  England   17 - 9   France 2011-02-26   \n",
       "3           3  England  34 - 10   France 2009-03-15   \n",
       "4           4  England   14 - 9   France 2007-10-13   \n",
       "\n",
       "                            Ground  \n",
       "0       Twickenham London, England  \n",
       "1  Eden Park Auckland, New Zealand  \n",
       "2       Twickenham London, England  \n",
       "3       Twickenham London, England  \n",
       "4    Stade de France Paris, France  "
      ]
     },
     "execution_count": 6,
     "metadata": {},
     "output_type": "execute_result"
    }
   ],
   "source": [
    "EngVSFra.head()"
   ]
  },
  {
   "cell_type": "code",
   "execution_count": 7,
   "metadata": {},
   "outputs": [
    {
     "data": {
      "text/html": [
       "<div>\n",
       "<style scoped>\n",
       "    .dataframe tbody tr th:only-of-type {\n",
       "        vertical-align: middle;\n",
       "    }\n",
       "\n",
       "    .dataframe tbody tr th {\n",
       "        vertical-align: top;\n",
       "    }\n",
       "\n",
       "    .dataframe thead th {\n",
       "        text-align: right;\n",
       "    }\n",
       "</style>\n",
       "<table border=\"1\" class=\"dataframe\">\n",
       "  <thead>\n",
       "    <tr style=\"text-align: right;\">\n",
       "      <th></th>\n",
       "      <th>Score</th>\n",
       "    </tr>\n",
       "  </thead>\n",
       "  <tbody>\n",
       "    <tr>\n",
       "      <th>0</th>\n",
       "      <td>23 - 13</td>\n",
       "    </tr>\n",
       "    <tr>\n",
       "      <th>1</th>\n",
       "      <td>12 - 19</td>\n",
       "    </tr>\n",
       "    <tr>\n",
       "      <th>2</th>\n",
       "      <td>17 - 9</td>\n",
       "    </tr>\n",
       "    <tr>\n",
       "      <th>3</th>\n",
       "      <td>34 - 10</td>\n",
       "    </tr>\n",
       "    <tr>\n",
       "      <th>4</th>\n",
       "      <td>14 - 9</td>\n",
       "    </tr>\n",
       "  </tbody>\n",
       "</table>\n",
       "</div>"
      ],
      "text/plain": [
       "     Score\n",
       "0  23 - 13\n",
       "1  12 - 19\n",
       "2   17 - 9\n",
       "3  34 - 10\n",
       "4   14 - 9"
      ]
     },
     "execution_count": 7,
     "metadata": {},
     "output_type": "execute_result"
    }
   ],
   "source": [
    "temp = EngVSFra[['Score']]\n",
    "temp.head()"
   ]
  },
  {
   "cell_type": "code",
   "execution_count": 8,
   "metadata": {},
   "outputs": [],
   "source": [
    "temp = temp['Score'].str.split(\" - \", expand = True)"
   ]
  },
  {
   "cell_type": "code",
   "execution_count": 9,
   "metadata": {},
   "outputs": [
    {
     "data": {
      "text/html": [
       "<div>\n",
       "<style scoped>\n",
       "    .dataframe tbody tr th:only-of-type {\n",
       "        vertical-align: middle;\n",
       "    }\n",
       "\n",
       "    .dataframe tbody tr th {\n",
       "        vertical-align: top;\n",
       "    }\n",
       "\n",
       "    .dataframe thead th {\n",
       "        text-align: right;\n",
       "    }\n",
       "</style>\n",
       "<table border=\"1\" class=\"dataframe\">\n",
       "  <thead>\n",
       "    <tr style=\"text-align: right;\">\n",
       "      <th></th>\n",
       "      <th>Home</th>\n",
       "      <th>Away</th>\n",
       "    </tr>\n",
       "  </thead>\n",
       "  <tbody>\n",
       "    <tr>\n",
       "      <th>0</th>\n",
       "      <td>23</td>\n",
       "      <td>13</td>\n",
       "    </tr>\n",
       "    <tr>\n",
       "      <th>1</th>\n",
       "      <td>12</td>\n",
       "      <td>19</td>\n",
       "    </tr>\n",
       "    <tr>\n",
       "      <th>2</th>\n",
       "      <td>17</td>\n",
       "      <td>9</td>\n",
       "    </tr>\n",
       "    <tr>\n",
       "      <th>3</th>\n",
       "      <td>34</td>\n",
       "      <td>10</td>\n",
       "    </tr>\n",
       "    <tr>\n",
       "      <th>4</th>\n",
       "      <td>14</td>\n",
       "      <td>9</td>\n",
       "    </tr>\n",
       "  </tbody>\n",
       "</table>\n",
       "</div>"
      ],
      "text/plain": [
       "  Home Away\n",
       "0   23   13\n",
       "1   12   19\n",
       "2   17    9\n",
       "3   34   10\n",
       "4   14    9"
      ]
     },
     "execution_count": 9,
     "metadata": {},
     "output_type": "execute_result"
    }
   ],
   "source": [
    "temp.columns = ['Home', 'Away']\n",
    "temp.head()"
   ]
  },
  {
   "cell_type": "code",
   "execution_count": 10,
   "metadata": {},
   "outputs": [],
   "source": [
    "temp.Home = temp.Home.astype(int)\n",
    "temp.Away = temp.Away.astype(int)"
   ]
  },
  {
   "cell_type": "code",
   "execution_count": 11,
   "metadata": {
    "scrolled": true
   },
   "outputs": [
    {
     "data": {
      "text/html": [
       "<div>\n",
       "<style scoped>\n",
       "    .dataframe tbody tr th:only-of-type {\n",
       "        vertical-align: middle;\n",
       "    }\n",
       "\n",
       "    .dataframe tbody tr th {\n",
       "        vertical-align: top;\n",
       "    }\n",
       "\n",
       "    .dataframe thead th {\n",
       "        text-align: right;\n",
       "    }\n",
       "</style>\n",
       "<table border=\"1\" class=\"dataframe\">\n",
       "  <thead>\n",
       "    <tr style=\"text-align: right;\">\n",
       "      <th></th>\n",
       "      <th>Unnamed: 0</th>\n",
       "      <th>HomeTeam</th>\n",
       "      <th>Score</th>\n",
       "      <th>AwayTeam</th>\n",
       "      <th>Date</th>\n",
       "      <th>Ground</th>\n",
       "      <th>Home</th>\n",
       "      <th>Away</th>\n",
       "    </tr>\n",
       "  </thead>\n",
       "  <tbody>\n",
       "    <tr>\n",
       "      <th>0</th>\n",
       "      <td>0</td>\n",
       "      <td>England</td>\n",
       "      <td>23 - 13</td>\n",
       "      <td>France</td>\n",
       "      <td>2013-02-23</td>\n",
       "      <td>Twickenham London, England</td>\n",
       "      <td>23</td>\n",
       "      <td>13</td>\n",
       "    </tr>\n",
       "    <tr>\n",
       "      <th>1</th>\n",
       "      <td>1</td>\n",
       "      <td>England</td>\n",
       "      <td>12 - 19</td>\n",
       "      <td>France</td>\n",
       "      <td>2011-10-08</td>\n",
       "      <td>Eden Park Auckland, New Zealand</td>\n",
       "      <td>12</td>\n",
       "      <td>19</td>\n",
       "    </tr>\n",
       "    <tr>\n",
       "      <th>2</th>\n",
       "      <td>2</td>\n",
       "      <td>England</td>\n",
       "      <td>17 - 9</td>\n",
       "      <td>France</td>\n",
       "      <td>2011-02-26</td>\n",
       "      <td>Twickenham London, England</td>\n",
       "      <td>17</td>\n",
       "      <td>9</td>\n",
       "    </tr>\n",
       "    <tr>\n",
       "      <th>3</th>\n",
       "      <td>3</td>\n",
       "      <td>England</td>\n",
       "      <td>34 - 10</td>\n",
       "      <td>France</td>\n",
       "      <td>2009-03-15</td>\n",
       "      <td>Twickenham London, England</td>\n",
       "      <td>34</td>\n",
       "      <td>10</td>\n",
       "    </tr>\n",
       "    <tr>\n",
       "      <th>4</th>\n",
       "      <td>4</td>\n",
       "      <td>England</td>\n",
       "      <td>14 - 9</td>\n",
       "      <td>France</td>\n",
       "      <td>2007-10-13</td>\n",
       "      <td>Stade de France Paris, France</td>\n",
       "      <td>14</td>\n",
       "      <td>9</td>\n",
       "    </tr>\n",
       "  </tbody>\n",
       "</table>\n",
       "</div>"
      ],
      "text/plain": [
       "   Unnamed: 0 HomeTeam    Score AwayTeam       Date  \\\n",
       "0           0  England  23 - 13   France 2013-02-23   \n",
       "1           1  England  12 - 19   France 2011-10-08   \n",
       "2           2  England   17 - 9   France 2011-02-26   \n",
       "3           3  England  34 - 10   France 2009-03-15   \n",
       "4           4  England   14 - 9   France 2007-10-13   \n",
       "\n",
       "                            Ground  Home  Away  \n",
       "0       Twickenham London, England    23    13  \n",
       "1  Eden Park Auckland, New Zealand    12    19  \n",
       "2       Twickenham London, England    17     9  \n",
       "3       Twickenham London, England    34    10  \n",
       "4    Stade de France Paris, France    14     9  "
      ]
     },
     "execution_count": 11,
     "metadata": {},
     "output_type": "execute_result"
    }
   ],
   "source": [
    "EngVSFra = EngVSFra.join(temp)\n",
    "EngVSFra.head()"
   ]
  },
  {
   "cell_type": "code",
   "execution_count": 12,
   "metadata": {},
   "outputs": [
    {
     "data": {
      "image/png": "[encoded data removed]",
      "text/plain": [
       "<Figure size 1440x216 with 1 Axes>"
      ]
     },
     "metadata": {
      "needs_background": "light"
     },
     "output_type": "display_data"
    }
   ],
   "source": [
    "# Home team's scoring by year (negetive scores mean losing the game)\n",
    "\n",
    "data = EngVSFra[['Home','Away','Date']].sort_values(by=['Date'])\n",
    "data['Home_Win'] = data['Home'] - (data['Away'])\n",
    "data.plot('Date','Home_Win',subplots=True,figsize=(20,3)) \n",
    "plt.show()"
   ]
  },
  {
   "cell_type": "code",
   "execution_count": 13,
   "metadata": {},
   "outputs": [
    {
     "data": {
      "text/plain": [
       "35"
      ]
     },
     "execution_count": 13,
     "metadata": {},
     "output_type": "execute_result"
    }
   ],
   "source": [
    "# Times of England won as home team\n",
    "\n",
    "EnglandWinHome = EngVSFra.loc[(EngVSFra['Home'] > EngVSFra['Away']) & (EngVSFra['HomeTeam'] == 'England')]\n",
    "len(EnglandWinHome)"
   ]
  },
  {
   "cell_type": "code",
   "execution_count": 14,
   "metadata": {},
   "outputs": [
    {
     "data": {
      "text/plain": [
       "53"
      ]
     },
     "execution_count": 14,
     "metadata": {},
     "output_type": "execute_result"
    }
   ],
   "source": [
    "# Times of England as home team\n",
    "\n",
    "EnglandHome = EngVSFra.loc[(EngVSFra['HomeTeam'] == 'England')]\n",
    "len(EnglandHome)"
   ]
  },
  {
   "cell_type": "code",
   "execution_count": 15,
   "metadata": {},
   "outputs": [
    {
     "data": {
      "text/plain": [
       "0.660377358490566"
      ]
     },
     "execution_count": 15,
     "metadata": {},
     "output_type": "execute_result"
    }
   ],
   "source": [
    "# Percentage of England VS France and England won as home team\n",
    "\n",
    "len(EnglandWinHome) / len(EnglandHome)"
   ]
  },
  {
   "cell_type": "markdown",
   "metadata": {},
   "source": [
    "**Among all matchup while England as home team and France as away team, the winning percentage of England is around 66%.**"
   ]
  },
  {
   "cell_type": "code",
   "execution_count": 16,
   "metadata": {},
   "outputs": [
    {
     "data": {
      "text/plain": [
       "27"
      ]
     },
     "execution_count": 16,
     "metadata": {},
     "output_type": "execute_result"
    }
   ],
   "source": [
    "# Times of France won as home team\n",
    "\n",
    "FranceWinHome = EngVSFra.loc[(EngVSFra['Home'] > EngVSFra['Away']) & (EngVSFra['HomeTeam'] == 'France')]\n",
    "len(FranceWinHome)"
   ]
  },
  {
   "cell_type": "code",
   "execution_count": 17,
   "metadata": {},
   "outputs": [
    {
     "data": {
      "text/plain": [
       "51"
      ]
     },
     "execution_count": 17,
     "metadata": {},
     "output_type": "execute_result"
    }
   ],
   "source": [
    "# Times of England as home team\n",
    "\n",
    "FranceHome = EngVSFra.loc[(EngVSFra['HomeTeam'] == 'France')]\n",
    "len(FranceHome)"
   ]
  },
  {
   "cell_type": "code",
   "execution_count": 18,
   "metadata": {},
   "outputs": [
    {
     "data": {
      "text/plain": [
       "0.5294117647058824"
      ]
     },
     "execution_count": 18,
     "metadata": {},
     "output_type": "execute_result"
    }
   ],
   "source": [
    "# Percentage of England VS France and France won as home team\n",
    "\n",
    "len(FranceWinHome) / len(FranceHome)"
   ]
  },
  {
   "cell_type": "markdown",
   "metadata": {},
   "source": [
    "**Among all matchup while France as home team and England as away team, the winning percentage of France is around 53%.**"
   ]
  },
  {
   "cell_type": "markdown",
   "metadata": {},
   "source": [
    "### England vs Ireland"
   ]
  },
  {
   "cell_type": "code",
   "execution_count": 19,
   "metadata": {
    "scrolled": true
   },
   "outputs": [
    {
     "data": {
      "text/html": [
       "<div>\n",
       "<style scoped>\n",
       "    .dataframe tbody tr th:only-of-type {\n",
       "        vertical-align: middle;\n",
       "    }\n",
       "\n",
       "    .dataframe tbody tr th {\n",
       "        vertical-align: top;\n",
       "    }\n",
       "\n",
       "    .dataframe thead th {\n",
       "        text-align: right;\n",
       "    }\n",
       "</style>\n",
       "<table border=\"1\" class=\"dataframe\">\n",
       "  <thead>\n",
       "    <tr style=\"text-align: right;\">\n",
       "      <th></th>\n",
       "      <th>Unnamed: 0</th>\n",
       "      <th>HomeTeam</th>\n",
       "      <th>Score</th>\n",
       "      <th>AwayTeam</th>\n",
       "      <th>Date</th>\n",
       "      <th>Ground</th>\n",
       "      <th>Home</th>\n",
       "      <th>Away</th>\n",
       "    </tr>\n",
       "  </thead>\n",
       "  <tbody>\n",
       "    <tr>\n",
       "      <th>0</th>\n",
       "      <td>0</td>\n",
       "      <td>England</td>\n",
       "      <td>13 - 10</td>\n",
       "      <td>Ireland</td>\n",
       "      <td>2014-02-22</td>\n",
       "      <td>Twickenham London, England</td>\n",
       "      <td>13</td>\n",
       "      <td>10</td>\n",
       "    </tr>\n",
       "    <tr>\n",
       "      <th>1</th>\n",
       "      <td>1</td>\n",
       "      <td>England</td>\n",
       "      <td>30 - 9</td>\n",
       "      <td>Ireland</td>\n",
       "      <td>2012-03-17</td>\n",
       "      <td>Twickenham London, England</td>\n",
       "      <td>30</td>\n",
       "      <td>9</td>\n",
       "    </tr>\n",
       "    <tr>\n",
       "      <th>2</th>\n",
       "      <td>2</td>\n",
       "      <td>England</td>\n",
       "      <td>16 - 20</td>\n",
       "      <td>Ireland</td>\n",
       "      <td>2010-02-27</td>\n",
       "      <td>Twickenham London, England</td>\n",
       "      <td>16</td>\n",
       "      <td>20</td>\n",
       "    </tr>\n",
       "    <tr>\n",
       "      <th>3</th>\n",
       "      <td>3</td>\n",
       "      <td>England</td>\n",
       "      <td>33 - 10</td>\n",
       "      <td>Ireland</td>\n",
       "      <td>2008-03-15</td>\n",
       "      <td>Twickenham London, England</td>\n",
       "      <td>33</td>\n",
       "      <td>10</td>\n",
       "    </tr>\n",
       "    <tr>\n",
       "      <th>4</th>\n",
       "      <td>4</td>\n",
       "      <td>England</td>\n",
       "      <td>24 - 28</td>\n",
       "      <td>Ireland</td>\n",
       "      <td>2006-03-18</td>\n",
       "      <td>Twickenham London, England</td>\n",
       "      <td>24</td>\n",
       "      <td>28</td>\n",
       "    </tr>\n",
       "  </tbody>\n",
       "</table>\n",
       "</div>"
      ],
      "text/plain": [
       "   Unnamed: 0 HomeTeam    Score AwayTeam       Date  \\\n",
       "0           0  England  13 - 10  Ireland 2014-02-22   \n",
       "1           1  England   30 - 9  Ireland 2012-03-17   \n",
       "2           2  England  16 - 20  Ireland 2010-02-27   \n",
       "3           3  England  33 - 10  Ireland 2008-03-15   \n",
       "4           4  England  24 - 28  Ireland 2006-03-18   \n",
       "\n",
       "                       Ground  Home  Away  \n",
       "0  Twickenham London, England    13    10  \n",
       "1  Twickenham London, England    30     9  \n",
       "2  Twickenham London, England    16    20  \n",
       "3  Twickenham London, England    33    10  \n",
       "4  Twickenham London, England    24    28  "
      ]
     },
     "execution_count": 19,
     "metadata": {},
     "output_type": "execute_result"
    }
   ],
   "source": [
    "temp = EngVSIre[['Score']]\n",
    "temp = temp['Score'].str.split(\" - \", expand = True)\n",
    "temp.columns = ['Home', 'Away']\n",
    "temp.Home = temp.Home.astype(int)\n",
    "temp.Away = temp.Away.astype(int)\n",
    "EngVSIre = EngVSIre.join(temp)\n",
    "EngVSIre.head()"
   ]
  },
  {
   "cell_type": "code",
   "execution_count": 20,
   "metadata": {},
   "outputs": [
    {
     "data": {
      "image/png": "[encoded data removed]",
      "text/plain": [
       "<Figure size 1440x216 with 1 Axes>"
      ]
     },
     "metadata": {
      "needs_background": "light"
     },
     "output_type": "display_data"
    }
   ],
   "source": [
    "# Home team's scoring by year (negetive scores mean losing the game)\n",
    "\n",
    "data = EngVSIre[['Home','Away','Date']].sort_values(by=['Date'])\n",
    "data['Home_Win'] = data['Home'] - (data['Away'])\n",
    "data.plot('Date','Home_Win',subplots=True,figsize=(20,3)) \n",
    "plt.show()"
   ]
  },
  {
   "cell_type": "code",
   "execution_count": 21,
   "metadata": {},
   "outputs": [
    {
     "data": {
      "text/plain": [
       "0.6666666666666666"
      ]
     },
     "execution_count": 21,
     "metadata": {},
     "output_type": "execute_result"
    }
   ],
   "source": [
    "# Percentage of England VS Ireland and England won as home team\n",
    "\n",
    "EnglandWinHome = EngVSIre.loc[(EngVSIre['Home'] > EngVSIre['Away']) & (EngVSIre['HomeTeam'] == 'England')]\n",
    "EnglandHome = EngVSIre.loc[(EngVSIre['HomeTeam'] == 'England')]\n",
    "len(EnglandWinHome) / len(EnglandHome)"
   ]
  },
  {
   "cell_type": "markdown",
   "metadata": {},
   "source": [
    "**Among all matchup while England as home team and Ireland as away team, the winning percentage of England is around 67%.**"
   ]
  },
  {
   "cell_type": "code",
   "execution_count": 22,
   "metadata": {
    "scrolled": true
   },
   "outputs": [
    {
     "data": {
      "text/plain": [
       "0.4626865671641791"
      ]
     },
     "execution_count": 22,
     "metadata": {},
     "output_type": "execute_result"
    }
   ],
   "source": [
    "# Percentage of England VS Ireland and Ireland won as home team\n",
    "\n",
    "IrelandWinHome = EngVSIre.loc[(EngVSIre['Home'] > EngVSIre['Away']) & (EngVSIre['HomeTeam'] == 'Ireland')]\n",
    "IrelandHome = EngVSIre.loc[(EngVSIre['HomeTeam'] == 'Ireland')]\n",
    "len(IrelandWinHome) / len(IrelandHome)"
   ]
  },
  {
   "cell_type": "markdown",
   "metadata": {},
   "source": [
    "**Among all matchup while Ireland as home team and England as away team, the winning percentage of Ireland is around 46%.**"
   ]
  },
  {
   "cell_type": "markdown",
   "metadata": {},
   "source": [
    "### England vs Italy"
   ]
  },
  {
   "cell_type": "code",
   "execution_count": 23,
   "metadata": {
    "scrolled": false
   },
   "outputs": [
    {
     "data": {
      "text/html": [
       "<div>\n",
       "<style scoped>\n",
       "    .dataframe tbody tr th:only-of-type {\n",
       "        vertical-align: middle;\n",
       "    }\n",
       "\n",
       "    .dataframe tbody tr th {\n",
       "        vertical-align: top;\n",
       "    }\n",
       "\n",
       "    .dataframe thead th {\n",
       "        text-align: right;\n",
       "    }\n",
       "</style>\n",
       "<table border=\"1\" class=\"dataframe\">\n",
       "  <thead>\n",
       "    <tr style=\"text-align: right;\">\n",
       "      <th></th>\n",
       "      <th>Unnamed: 0</th>\n",
       "      <th>HomeTeam</th>\n",
       "      <th>Score</th>\n",
       "      <th>AwayTeam</th>\n",
       "      <th>Date</th>\n",
       "      <th>Ground</th>\n",
       "      <th>Home</th>\n",
       "      <th>Away</th>\n",
       "    </tr>\n",
       "  </thead>\n",
       "  <tbody>\n",
       "    <tr>\n",
       "      <th>0</th>\n",
       "      <td>0</td>\n",
       "      <td>England</td>\n",
       "      <td>18 - 11</td>\n",
       "      <td>Italy</td>\n",
       "      <td>2013-03-10</td>\n",
       "      <td>Twickenham London, England</td>\n",
       "      <td>18</td>\n",
       "      <td>11</td>\n",
       "    </tr>\n",
       "    <tr>\n",
       "      <th>1</th>\n",
       "      <td>1</td>\n",
       "      <td>England</td>\n",
       "      <td>59 - 13</td>\n",
       "      <td>Italy</td>\n",
       "      <td>2011-02-12</td>\n",
       "      <td>Twickenham London, England</td>\n",
       "      <td>59</td>\n",
       "      <td>13</td>\n",
       "    </tr>\n",
       "    <tr>\n",
       "      <th>2</th>\n",
       "      <td>2</td>\n",
       "      <td>England</td>\n",
       "      <td>36 - 11</td>\n",
       "      <td>Italy</td>\n",
       "      <td>2009-02-07</td>\n",
       "      <td>Twickenham London, England</td>\n",
       "      <td>36</td>\n",
       "      <td>11</td>\n",
       "    </tr>\n",
       "    <tr>\n",
       "      <th>3</th>\n",
       "      <td>3</td>\n",
       "      <td>England</td>\n",
       "      <td>20 - 7</td>\n",
       "      <td>Italy</td>\n",
       "      <td>2007-02-10</td>\n",
       "      <td>Twickenham London, England</td>\n",
       "      <td>20</td>\n",
       "      <td>7</td>\n",
       "    </tr>\n",
       "    <tr>\n",
       "      <th>4</th>\n",
       "      <td>4</td>\n",
       "      <td>England</td>\n",
       "      <td>39 - 7</td>\n",
       "      <td>Italy</td>\n",
       "      <td>2005-03-12</td>\n",
       "      <td>Twickenham London, England</td>\n",
       "      <td>39</td>\n",
       "      <td>7</td>\n",
       "    </tr>\n",
       "  </tbody>\n",
       "</table>\n",
       "</div>"
      ],
      "text/plain": [
       "   Unnamed: 0 HomeTeam    Score AwayTeam       Date  \\\n",
       "0           0  England  18 - 11    Italy 2013-03-10   \n",
       "1           1  England  59 - 13    Italy 2011-02-12   \n",
       "2           2  England  36 - 11    Italy 2009-02-07   \n",
       "3           3  England   20 - 7    Italy 2007-02-10   \n",
       "4           4  England   39 - 7    Italy 2005-03-12   \n",
       "\n",
       "                       Ground  Home  Away  \n",
       "0  Twickenham London, England    18    11  \n",
       "1  Twickenham London, England    59    13  \n",
       "2  Twickenham London, England    36    11  \n",
       "3  Twickenham London, England    20     7  \n",
       "4  Twickenham London, England    39     7  "
      ]
     },
     "execution_count": 23,
     "metadata": {},
     "output_type": "execute_result"
    }
   ],
   "source": [
    "temp = EngVSIta[['Score']]\n",
    "temp = temp['Score'].str.split(\" - \", expand = True)\n",
    "temp.columns = ['Home', 'Away']\n",
    "temp.Home = temp.Home.astype(int)\n",
    "temp.Away = temp.Away.astype(int)\n",
    "EngVSIta = EngVSIta.join(temp)\n",
    "EngVSIta.head()"
   ]
  },
  {
   "cell_type": "code",
   "execution_count": 24,
   "metadata": {},
   "outputs": [
    {
     "data": {
      "image/png": "[encoded data removed]",
      "text/plain": [
       "<Figure size 1440x216 with 1 Axes>"
      ]
     },
     "metadata": {
      "needs_background": "light"
     },
     "output_type": "display_data"
    }
   ],
   "source": [
    "# Home team's scoring by year (negetive scores mean losing the game)\n",
    "\n",
    "data = EngVSIta[['Home','Away','Date']].sort_values(by=['Date'])\n",
    "data['Home_Win'] = data['Home'] - (data['Away'])\n",
    "data.plot('Date','Home_Win',subplots=True,figsize=(20,3)) \n",
    "plt.show()"
   ]
  },
  {
   "cell_type": "code",
   "execution_count": 25,
   "metadata": {},
   "outputs": [
    {
     "data": {
      "text/plain": [
       "1.0"
      ]
     },
     "execution_count": 25,
     "metadata": {},
     "output_type": "execute_result"
    }
   ],
   "source": [
    "# Percentage of England VS Italy and England won as home team\n",
    "\n",
    "EnglandWinHome = EngVSIta.loc[(EngVSIta['Home'] > EngVSIta['Away']) & (EngVSIta['HomeTeam'] == 'England')]\n",
    "EnglandHome = EngVSIta.loc[(EngVSIta['HomeTeam'] == 'England')]\n",
    "len(EnglandWinHome) / len(EnglandHome)"
   ]
  },
  {
   "cell_type": "markdown",
   "metadata": {},
   "source": [
    "**Among all matchup while England as home team and Italy as away team, the winning percentage of England is 100%.**"
   ]
  },
  {
   "cell_type": "code",
   "execution_count": 26,
   "metadata": {},
   "outputs": [
    {
     "data": {
      "text/plain": [
       "0.0"
      ]
     },
     "execution_count": 26,
     "metadata": {},
     "output_type": "execute_result"
    }
   ],
   "source": [
    "# Percentage of England VS Italy and Italy won as home team\n",
    "\n",
    "ItalyWinHome = EngVSIta.loc[(EngVSIta['Home'] > EngVSIta['Away']) & (EngVSIta['HomeTeam'] == 'Italy')]\n",
    "ItalyHome = EngVSIta.loc[(EngVSIta['HomeTeam'] == 'Italy')]\n",
    "len(ItalyWinHome) / len(ItalyHome)"
   ]
  },
  {
   "cell_type": "markdown",
   "metadata": {},
   "source": [
    "**Among all matchup while Italy as home team and England as away team, the winning percentage of Italy is 0%.**"
   ]
  },
  {
   "cell_type": "markdown",
   "metadata": {},
   "source": [
    "### England vs Scotland"
   ]
  },
  {
   "cell_type": "code",
   "execution_count": 27,
   "metadata": {
    "scrolled": true
   },
   "outputs": [
    {
     "data": {
      "text/html": [
       "<div>\n",
       "<style scoped>\n",
       "    .dataframe tbody tr th:only-of-type {\n",
       "        vertical-align: middle;\n",
       "    }\n",
       "\n",
       "    .dataframe tbody tr th {\n",
       "        vertical-align: top;\n",
       "    }\n",
       "\n",
       "    .dataframe thead th {\n",
       "        text-align: right;\n",
       "    }\n",
       "</style>\n",
       "<table border=\"1\" class=\"dataframe\">\n",
       "  <thead>\n",
       "    <tr style=\"text-align: right;\">\n",
       "      <th></th>\n",
       "      <th>Unnamed: 0</th>\n",
       "      <th>HomeTeam</th>\n",
       "      <th>Score</th>\n",
       "      <th>AwayTeam</th>\n",
       "      <th>Date</th>\n",
       "      <th>Ground</th>\n",
       "      <th>Home</th>\n",
       "      <th>Away</th>\n",
       "    </tr>\n",
       "  </thead>\n",
       "  <tbody>\n",
       "    <tr>\n",
       "      <th>0</th>\n",
       "      <td>0</td>\n",
       "      <td>England</td>\n",
       "      <td>38 - 18</td>\n",
       "      <td>Scotland</td>\n",
       "      <td>2013-02-02</td>\n",
       "      <td>Twickenham London, England</td>\n",
       "      <td>38</td>\n",
       "      <td>18</td>\n",
       "    </tr>\n",
       "    <tr>\n",
       "      <th>1</th>\n",
       "      <td>1</td>\n",
       "      <td>England</td>\n",
       "      <td>16 - 12</td>\n",
       "      <td>Scotland</td>\n",
       "      <td>2011-10-01</td>\n",
       "      <td>Eden Park Auckland, New Zealand</td>\n",
       "      <td>16</td>\n",
       "      <td>12</td>\n",
       "    </tr>\n",
       "    <tr>\n",
       "      <th>2</th>\n",
       "      <td>2</td>\n",
       "      <td>England</td>\n",
       "      <td>22 - 16</td>\n",
       "      <td>Scotland</td>\n",
       "      <td>2011-03-13</td>\n",
       "      <td>Twickenham London, England</td>\n",
       "      <td>22</td>\n",
       "      <td>16</td>\n",
       "    </tr>\n",
       "    <tr>\n",
       "      <th>3</th>\n",
       "      <td>3</td>\n",
       "      <td>England</td>\n",
       "      <td>26 - 12</td>\n",
       "      <td>Scotland</td>\n",
       "      <td>2009-03-21</td>\n",
       "      <td>Twickenham London, England</td>\n",
       "      <td>26</td>\n",
       "      <td>12</td>\n",
       "    </tr>\n",
       "    <tr>\n",
       "      <th>4</th>\n",
       "      <td>4</td>\n",
       "      <td>England</td>\n",
       "      <td>42 - 20</td>\n",
       "      <td>Scotland</td>\n",
       "      <td>2007-02-03</td>\n",
       "      <td>Twickenham London, England</td>\n",
       "      <td>42</td>\n",
       "      <td>20</td>\n",
       "    </tr>\n",
       "  </tbody>\n",
       "</table>\n",
       "</div>"
      ],
      "text/plain": [
       "   Unnamed: 0 HomeTeam    Score  AwayTeam       Date  \\\n",
       "0           0  England  38 - 18  Scotland 2013-02-02   \n",
       "1           1  England  16 - 12  Scotland 2011-10-01   \n",
       "2           2  England  22 - 16  Scotland 2011-03-13   \n",
       "3           3  England  26 - 12  Scotland 2009-03-21   \n",
       "4           4  England  42 - 20  Scotland 2007-02-03   \n",
       "\n",
       "                            Ground  Home  Away  \n",
       "0       Twickenham London, England    38    18  \n",
       "1  Eden Park Auckland, New Zealand    16    12  \n",
       "2       Twickenham London, England    22    16  \n",
       "3       Twickenham London, England    26    12  \n",
       "4       Twickenham London, England    42    20  "
      ]
     },
     "execution_count": 27,
     "metadata": {},
     "output_type": "execute_result"
    }
   ],
   "source": [
    "temp = EngVSSco[['Score']]\n",
    "temp = temp['Score'].str.split(\" - \", expand = True)\n",
    "temp.columns = ['Home', 'Away']\n",
    "temp.Home = temp.Home.astype(int)\n",
    "temp.Away = temp.Away.astype(int)\n",
    "EngVSSco = EngVSSco.join(temp)\n",
    "EngVSSco.head()"
   ]
  },
  {
   "cell_type": "code",
   "execution_count": 28,
   "metadata": {},
   "outputs": [
    {
     "data": {
      "image/png": "[encoded data removed]",
      "text/plain": [
       "<Figure size 1440x216 with 1 Axes>"
      ]
     },
     "metadata": {
      "needs_background": "light"
     },
     "output_type": "display_data"
    }
   ],
   "source": [
    "# Home team's scoring by year (negetive scores mean losing the game)\n",
    "\n",
    "data = EngVSSco[['Home','Away','Date']].sort_values(by=['Date'])\n",
    "data['Home_Win'] = data['Home'] - (data['Away'])\n",
    "data.plot('Date','Home_Win',subplots=True,figsize=(20,3)) \n",
    "plt.show()"
   ]
  },
  {
   "cell_type": "code",
   "execution_count": 29,
   "metadata": {},
   "outputs": [
    {
     "data": {
      "text/plain": [
       "0.6865671641791045"
      ]
     },
     "execution_count": 29,
     "metadata": {},
     "output_type": "execute_result"
    }
   ],
   "source": [
    "# Percentage of England VS Scotland and England won as home team\n",
    "\n",
    "EnglandWinHome = EngVSSco.loc[(EngVSSco['Home'] > EngVSSco['Away']) & (EngVSSco['HomeTeam'] == 'England')]\n",
    "EnglandHome = EngVSSco.loc[(EngVSSco['HomeTeam'] == 'England')]\n",
    "len(EnglandWinHome) / len(EnglandHome)"
   ]
  },
  {
   "cell_type": "markdown",
   "metadata": {},
   "source": [
    "**Among all matchup while England as home team and Scotland as away team, the winning percentage of England is around 69%.**"
   ]
  },
  {
   "cell_type": "code",
   "execution_count": 30,
   "metadata": {
    "scrolled": true
   },
   "outputs": [
    {
     "data": {
      "text/plain": [
       "0.42028985507246375"
      ]
     },
     "execution_count": 30,
     "metadata": {},
     "output_type": "execute_result"
    }
   ],
   "source": [
    "# Percentage of England VS Scotland and Scotland won as home team\n",
    "\n",
    "ScotlandWinHome = EngVSSco.loc[(EngVSSco['Home'] > EngVSSco['Away']) & (EngVSSco['HomeTeam'] == 'Scotland')]\n",
    "ScotlandHome = EngVSSco.loc[(EngVSSco['HomeTeam'] == 'Scotland')]\n",
    "len(ScotlandWinHome) / len(ScotlandHome)"
   ]
  },
  {
   "cell_type": "markdown",
   "metadata": {},
   "source": [
    "**Among all matchup while Scotland as home team and England as away team, the winning percentage of Scotland is around 42%.**"
   ]
  },
  {
   "cell_type": "markdown",
   "metadata": {},
   "source": [
    "### England vs Wales"
   ]
  },
  {
   "cell_type": "code",
   "execution_count": 31,
   "metadata": {},
   "outputs": [
    {
     "data": {
      "text/html": [
       "<div>\n",
       "<style scoped>\n",
       "    .dataframe tbody tr th:only-of-type {\n",
       "        vertical-align: middle;\n",
       "    }\n",
       "\n",
       "    .dataframe tbody tr th {\n",
       "        vertical-align: top;\n",
       "    }\n",
       "\n",
       "    .dataframe thead th {\n",
       "        text-align: right;\n",
       "    }\n",
       "</style>\n",
       "<table border=\"1\" class=\"dataframe\">\n",
       "  <thead>\n",
       "    <tr style=\"text-align: right;\">\n",
       "      <th></th>\n",
       "      <th>Unnamed: 0</th>\n",
       "      <th>HomeTeam</th>\n",
       "      <th>Score</th>\n",
       "      <th>AwayTeam</th>\n",
       "      <th>Date</th>\n",
       "      <th>Ground</th>\n",
       "      <th>Home</th>\n",
       "      <th>Away</th>\n",
       "    </tr>\n",
       "  </thead>\n",
       "  <tbody>\n",
       "    <tr>\n",
       "      <th>0</th>\n",
       "      <td>0</td>\n",
       "      <td>England</td>\n",
       "      <td>29 - 18</td>\n",
       "      <td>Wales</td>\n",
       "      <td>2014-03-09</td>\n",
       "      <td>Twickenham London, England</td>\n",
       "      <td>29</td>\n",
       "      <td>18</td>\n",
       "    </tr>\n",
       "    <tr>\n",
       "      <th>1</th>\n",
       "      <td>1</td>\n",
       "      <td>England</td>\n",
       "      <td>12 - 19</td>\n",
       "      <td>Wales</td>\n",
       "      <td>2012-02-25</td>\n",
       "      <td>Twickenham London, England</td>\n",
       "      <td>12</td>\n",
       "      <td>19</td>\n",
       "    </tr>\n",
       "    <tr>\n",
       "      <th>2</th>\n",
       "      <td>2</td>\n",
       "      <td>England</td>\n",
       "      <td>23 - 19</td>\n",
       "      <td>Wales</td>\n",
       "      <td>2011-08-06</td>\n",
       "      <td>Twickenham London, England</td>\n",
       "      <td>23</td>\n",
       "      <td>19</td>\n",
       "    </tr>\n",
       "    <tr>\n",
       "      <th>3</th>\n",
       "      <td>3</td>\n",
       "      <td>England</td>\n",
       "      <td>30 - 17</td>\n",
       "      <td>Wales</td>\n",
       "      <td>2010-02-06</td>\n",
       "      <td>Twickenham London, England</td>\n",
       "      <td>30</td>\n",
       "      <td>17</td>\n",
       "    </tr>\n",
       "    <tr>\n",
       "      <th>4</th>\n",
       "      <td>4</td>\n",
       "      <td>England</td>\n",
       "      <td>19 - 26</td>\n",
       "      <td>Wales</td>\n",
       "      <td>2008-02-02</td>\n",
       "      <td>Twickenham London, England</td>\n",
       "      <td>19</td>\n",
       "      <td>26</td>\n",
       "    </tr>\n",
       "  </tbody>\n",
       "</table>\n",
       "</div>"
      ],
      "text/plain": [
       "   Unnamed: 0 HomeTeam    Score AwayTeam       Date  \\\n",
       "0           0  England  29 - 18    Wales 2014-03-09   \n",
       "1           1  England  12 - 19    Wales 2012-02-25   \n",
       "2           2  England  23 - 19    Wales 2011-08-06   \n",
       "3           3  England  30 - 17    Wales 2010-02-06   \n",
       "4           4  England  19 - 26    Wales 2008-02-02   \n",
       "\n",
       "                       Ground  Home  Away  \n",
       "0  Twickenham London, England    29    18  \n",
       "1  Twickenham London, England    12    19  \n",
       "2  Twickenham London, England    23    19  \n",
       "3  Twickenham London, England    30    17  \n",
       "4  Twickenham London, England    19    26  "
      ]
     },
     "execution_count": 31,
     "metadata": {},
     "output_type": "execute_result"
    }
   ],
   "source": [
    "temp = EngVSWal[['Score']]\n",
    "temp = temp['Score'].str.split(\" - \", expand = True)\n",
    "temp.columns = ['Home', 'Away']\n",
    "temp.Home = temp.Home.astype(int)\n",
    "temp.Away = temp.Away.astype(int)\n",
    "EngVSWal = EngVSWal.join(temp)\n",
    "EngVSWal.head()"
   ]
  },
  {
   "cell_type": "code",
   "execution_count": 32,
   "metadata": {},
   "outputs": [
    {
     "data": {
      "image/png": "[encoded data removed]",
      "text/plain": [
       "<Figure size 1440x216 with 1 Axes>"
      ]
     },
     "metadata": {
      "needs_background": "light"
     },
     "output_type": "display_data"
    }
   ],
   "source": [
    "# Home team's scoring by year (negetive scores mean losing the game)\n",
    "\n",
    "data = EngVSWal[['Home','Away','Date']].sort_values(by=['Date'])\n",
    "data['Home_Win'] = data['Home'] - (data['Away'])\n",
    "data.plot('Date','Home_Win',subplots=True,figsize=(20,3)) \n",
    "plt.show()"
   ]
  },
  {
   "cell_type": "code",
   "execution_count": 33,
   "metadata": {},
   "outputs": [
    {
     "data": {
      "text/plain": [
       "0.5797101449275363"
      ]
     },
     "execution_count": 33,
     "metadata": {},
     "output_type": "execute_result"
    }
   ],
   "source": [
    "# Percentage of England VS Scotland and England won as home team\n",
    "\n",
    "EnglandWinHome = EngVSWal.loc[(EngVSWal['Home'] > EngVSWal['Away']) & (EngVSWal['HomeTeam'] == 'England')]\n",
    "EnglandHome = EngVSWal.loc[(EngVSWal['HomeTeam'] == 'England')]\n",
    "len(EnglandWinHome) / len(EnglandHome)"
   ]
  },
  {
   "cell_type": "markdown",
   "metadata": {},
   "source": [
    "**Among all matchup while England as home team and Wales as away team, the winning percentage of England is around 58%.**"
   ]
  },
  {
   "cell_type": "code",
   "execution_count": 34,
   "metadata": {
    "scrolled": true
   },
   "outputs": [
    {
     "data": {
      "text/plain": [
       "0.5806451612903226"
      ]
     },
     "execution_count": 34,
     "metadata": {},
     "output_type": "execute_result"
    }
   ],
   "source": [
    "# Percentage of England VS Wales and Wales won as home team\n",
    "\n",
    "WalesWinHome = EngVSWal.loc[(EngVSWal['Home'] > EngVSWal['Away']) & (EngVSWal['HomeTeam'] == 'Wales')]\n",
    "WalesHome = EngVSWal.loc[(EngVSWal['HomeTeam'] == 'Wales')]\n",
    "len(WalesWinHome) / len(WalesHome)"
   ]
  },
  {
   "cell_type": "markdown",
   "metadata": {},
   "source": [
    "**Among all matchup while Wales as home team and England as away team, the winning percentage of Wales is around 58%.**"
   ]
  },
  {
   "cell_type": "markdown",
   "metadata": {},
   "source": [
    "### France vs Ireland"
   ]
  },
  {
   "cell_type": "code",
   "execution_count": 35,
   "metadata": {},
   "outputs": [
    {
     "data": {
      "text/html": [
       "<div>\n",
       "<style scoped>\n",
       "    .dataframe tbody tr th:only-of-type {\n",
       "        vertical-align: middle;\n",
       "    }\n",
       "\n",
       "    .dataframe tbody tr th {\n",
       "        vertical-align: top;\n",
       "    }\n",
       "\n",
       "    .dataframe thead th {\n",
       "        text-align: right;\n",
       "    }\n",
       "</style>\n",
       "<table border=\"1\" class=\"dataframe\">\n",
       "  <thead>\n",
       "    <tr style=\"text-align: right;\">\n",
       "      <th></th>\n",
       "      <th>Unnamed: 0</th>\n",
       "      <th>HomeTeam</th>\n",
       "      <th>Score</th>\n",
       "      <th>AwayTeam</th>\n",
       "      <th>Date</th>\n",
       "      <th>Ground</th>\n",
       "      <th>Home</th>\n",
       "      <th>Away</th>\n",
       "    </tr>\n",
       "  </thead>\n",
       "  <tbody>\n",
       "    <tr>\n",
       "      <th>0</th>\n",
       "      <td>0</td>\n",
       "      <td>France</td>\n",
       "      <td>20 - 22</td>\n",
       "      <td>Ireland</td>\n",
       "      <td>2014-03-15</td>\n",
       "      <td>Stade de France Paris, France</td>\n",
       "      <td>20</td>\n",
       "      <td>22</td>\n",
       "    </tr>\n",
       "    <tr>\n",
       "      <th>1</th>\n",
       "      <td>1</td>\n",
       "      <td>France</td>\n",
       "      <td>17 - 17</td>\n",
       "      <td>Ireland</td>\n",
       "      <td>2012-03-04</td>\n",
       "      <td>Stade de France Paris, France</td>\n",
       "      <td>17</td>\n",
       "      <td>17</td>\n",
       "    </tr>\n",
       "    <tr>\n",
       "      <th>2</th>\n",
       "      <td>2</td>\n",
       "      <td>France</td>\n",
       "      <td>19 - 12</td>\n",
       "      <td>Ireland</td>\n",
       "      <td>2011-08-13</td>\n",
       "      <td>Stade Municipal Bordeaux, France</td>\n",
       "      <td>19</td>\n",
       "      <td>12</td>\n",
       "    </tr>\n",
       "    <tr>\n",
       "      <th>3</th>\n",
       "      <td>3</td>\n",
       "      <td>France</td>\n",
       "      <td>33 - 10</td>\n",
       "      <td>Ireland</td>\n",
       "      <td>2010-02-13</td>\n",
       "      <td>Stade de France Paris, France</td>\n",
       "      <td>33</td>\n",
       "      <td>10</td>\n",
       "    </tr>\n",
       "    <tr>\n",
       "      <th>4</th>\n",
       "      <td>4</td>\n",
       "      <td>France</td>\n",
       "      <td>26 - 21</td>\n",
       "      <td>Ireland</td>\n",
       "      <td>2008-02-09</td>\n",
       "      <td>Stade de France Paris, France</td>\n",
       "      <td>26</td>\n",
       "      <td>21</td>\n",
       "    </tr>\n",
       "  </tbody>\n",
       "</table>\n",
       "</div>"
      ],
      "text/plain": [
       "   Unnamed: 0 HomeTeam    Score AwayTeam       Date  \\\n",
       "0           0   France  20 - 22  Ireland 2014-03-15   \n",
       "1           1   France  17 - 17  Ireland 2012-03-04   \n",
       "2           2   France  19 - 12  Ireland 2011-08-13   \n",
       "3           3   France  33 - 10  Ireland 2010-02-13   \n",
       "4           4   France  26 - 21  Ireland 2008-02-09   \n",
       "\n",
       "                             Ground  Home  Away  \n",
       "0     Stade de France Paris, France    20    22  \n",
       "1     Stade de France Paris, France    17    17  \n",
       "2  Stade Municipal Bordeaux, France    19    12  \n",
       "3     Stade de France Paris, France    33    10  \n",
       "4     Stade de France Paris, France    26    21  "
      ]
     },
     "execution_count": 35,
     "metadata": {},
     "output_type": "execute_result"
    }
   ],
   "source": [
    "temp = FraVSIre[['Score']]\n",
    "temp = temp['Score'].str.split(\" - \", expand = True)\n",
    "temp.columns = ['Home', 'Away']\n",
    "temp.Home = temp.Home.astype(int)\n",
    "temp.Away = temp.Away.astype(int)\n",
    "FraVSIre = FraVSIre.join(temp)\n",
    "FraVSIre.head()"
   ]
  },
  {
   "cell_type": "code",
   "execution_count": 36,
   "metadata": {},
   "outputs": [
    {
     "data": {
      "image/png": "[encoded data removed]",
      "text/plain": [
       "<Figure size 1440x216 with 1 Axes>"
      ]
     },
     "metadata": {
      "needs_background": "light"
     },
     "output_type": "display_data"
    }
   ],
   "source": [
    "# Home team's scoring by year (negetive scores mean losing the game)\n",
    "\n",
    "data = FraVSIre[['Home','Away','Date']].sort_values(by=['Date'])\n",
    "data['Home_Win'] = data['Home'] - (data['Away'])\n",
    "data.plot('Date','Home_Win',subplots=True,figsize=(20,3)) \n",
    "plt.show()"
   ]
  },
  {
   "cell_type": "code",
   "execution_count": 37,
   "metadata": {},
   "outputs": [
    {
     "data": {
      "text/plain": [
       "0.7"
      ]
     },
     "execution_count": 37,
     "metadata": {},
     "output_type": "execute_result"
    }
   ],
   "source": [
    "# Percentage of France VS Ireland and England won as home team\n",
    "\n",
    "WinHome = FraVSIre.loc[(FraVSIre['Home'] > FraVSIre['Away']) & (FraVSIre['HomeTeam'] == 'France')]\n",
    "Home = FraVSIre.loc[(FraVSIre['HomeTeam'] == 'France')]\n",
    "len(WinHome) / len(Home)"
   ]
  },
  {
   "cell_type": "markdown",
   "metadata": {},
   "source": [
    "**Among all matchup while France as home team and Ireland as away team, the winning percentage of France is around 70%.**"
   ]
  },
  {
   "cell_type": "code",
   "execution_count": 38,
   "metadata": {
    "scrolled": true
   },
   "outputs": [
    {
     "data": {
      "text/plain": [
       "0.44680851063829785"
      ]
     },
     "execution_count": 38,
     "metadata": {},
     "output_type": "execute_result"
    }
   ],
   "source": [
    "# Percentage of France VS Ireland and Ireland won as home team\n",
    "\n",
    "WinHome = FraVSIre.loc[(FraVSIre['Home'] > FraVSIre['Away']) & (FraVSIre['HomeTeam'] == 'Ireland')]\n",
    "Home = FraVSIre.loc[(FraVSIre['HomeTeam'] == 'Ireland')]\n",
    "len(WinHome) / len(Home)"
   ]
  },
  {
   "cell_type": "markdown",
   "metadata": {},
   "source": [
    "**Among all matchup while Ireland as home team and France as away team, the winning percentage of Ireland is around 45%.**"
   ]
  },
  {
   "cell_type": "markdown",
   "metadata": {},
   "source": [
    "### France vs Italy"
   ]
  },
  {
   "cell_type": "code",
   "execution_count": 39,
   "metadata": {
    "scrolled": true
   },
   "outputs": [
    {
     "data": {
      "text/html": [
       "<div>\n",
       "<style scoped>\n",
       "    .dataframe tbody tr th:only-of-type {\n",
       "        vertical-align: middle;\n",
       "    }\n",
       "\n",
       "    .dataframe tbody tr th {\n",
       "        vertical-align: top;\n",
       "    }\n",
       "\n",
       "    .dataframe thead th {\n",
       "        text-align: right;\n",
       "    }\n",
       "</style>\n",
       "<table border=\"1\" class=\"dataframe\">\n",
       "  <thead>\n",
       "    <tr style=\"text-align: right;\">\n",
       "      <th></th>\n",
       "      <th>Unnamed: 0</th>\n",
       "      <th>HomeTeam</th>\n",
       "      <th>Score</th>\n",
       "      <th>AwayTeam</th>\n",
       "      <th>Date</th>\n",
       "      <th>Ground</th>\n",
       "      <th>Home</th>\n",
       "      <th>Away</th>\n",
       "    </tr>\n",
       "  </thead>\n",
       "  <tbody>\n",
       "    <tr>\n",
       "      <th>0</th>\n",
       "      <td>0</td>\n",
       "      <td>France</td>\n",
       "      <td>30 - 10</td>\n",
       "      <td>Italy</td>\n",
       "      <td>2014-02-09</td>\n",
       "      <td>Stade de France Paris, France</td>\n",
       "      <td>30</td>\n",
       "      <td>10</td>\n",
       "    </tr>\n",
       "    <tr>\n",
       "      <th>1</th>\n",
       "      <td>1</td>\n",
       "      <td>France</td>\n",
       "      <td>30 - 12</td>\n",
       "      <td>Italy</td>\n",
       "      <td>2012-02-04</td>\n",
       "      <td>Stade de France Paris, France</td>\n",
       "      <td>30</td>\n",
       "      <td>12</td>\n",
       "    </tr>\n",
       "    <tr>\n",
       "      <th>2</th>\n",
       "      <td>2</td>\n",
       "      <td>France</td>\n",
       "      <td>46 - 20</td>\n",
       "      <td>Italy</td>\n",
       "      <td>2010-03-14</td>\n",
       "      <td>Stade de France Paris, France</td>\n",
       "      <td>46</td>\n",
       "      <td>20</td>\n",
       "    </tr>\n",
       "    <tr>\n",
       "      <th>3</th>\n",
       "      <td>3</td>\n",
       "      <td>France</td>\n",
       "      <td>25 - 13</td>\n",
       "      <td>Italy</td>\n",
       "      <td>2008-03-09</td>\n",
       "      <td>Stade de France Paris, France</td>\n",
       "      <td>25</td>\n",
       "      <td>13</td>\n",
       "    </tr>\n",
       "    <tr>\n",
       "      <th>4</th>\n",
       "      <td>4</td>\n",
       "      <td>France</td>\n",
       "      <td>37 - 12</td>\n",
       "      <td>Italy</td>\n",
       "      <td>2006-02-25</td>\n",
       "      <td>Stade de France Paris, France</td>\n",
       "      <td>37</td>\n",
       "      <td>12</td>\n",
       "    </tr>\n",
       "  </tbody>\n",
       "</table>\n",
       "</div>"
      ],
      "text/plain": [
       "   Unnamed: 0 HomeTeam    Score AwayTeam       Date  \\\n",
       "0           0   France  30 - 10    Italy 2014-02-09   \n",
       "1           1   France  30 - 12    Italy 2012-02-04   \n",
       "2           2   France  46 - 20    Italy 2010-03-14   \n",
       "3           3   France  25 - 13    Italy 2008-03-09   \n",
       "4           4   France  37 - 12    Italy 2006-02-25   \n",
       "\n",
       "                          Ground  Home  Away  \n",
       "0  Stade de France Paris, France    30    10  \n",
       "1  Stade de France Paris, France    30    12  \n",
       "2  Stade de France Paris, France    46    20  \n",
       "3  Stade de France Paris, France    25    13  \n",
       "4  Stade de France Paris, France    37    12  "
      ]
     },
     "execution_count": 39,
     "metadata": {},
     "output_type": "execute_result"
    }
   ],
   "source": [
    "temp = FraVSIta[['Score']]\n",
    "temp = temp['Score'].str.split(\" - \", expand = True)\n",
    "temp.columns = ['Home', 'Away']\n",
    "temp.Home = temp.Home.astype(int)\n",
    "temp.Away = temp.Away.astype(int)\n",
    "FraVSIta = FraVSIta.join(temp)\n",
    "FraVSIta.head()"
   ]
  },
  {
   "cell_type": "code",
   "execution_count": 40,
   "metadata": {},
   "outputs": [
    {
     "data": {
      "image/png": "[encoded data removed]",
      "text/plain": [
       "<Figure size 1440x216 with 1 Axes>"
      ]
     },
     "metadata": {
      "needs_background": "light"
     },
     "output_type": "display_data"
    }
   ],
   "source": [
    "# Home team's scoring by year (negetive scores mean losing the game)\n",
    "\n",
    "data = FraVSIta[['Home','Away','Date']].sort_values(by=['Date'])\n",
    "data['Home_Win'] = data['Home'] - (data['Away'])\n",
    "data.plot('Date','Home_Win',subplots=True,figsize=(20,3)) \n",
    "plt.show()"
   ]
  },
  {
   "cell_type": "code",
   "execution_count": 41,
   "metadata": {},
   "outputs": [
    {
     "data": {
      "text/plain": [
       "0.9565217391304348"
      ]
     },
     "execution_count": 41,
     "metadata": {},
     "output_type": "execute_result"
    }
   ],
   "source": [
    "# Percentage of France VS Italy and France won as home team\n",
    "\n",
    "WinHome = FraVSIta.loc[(FraVSIta['Home'] > FraVSIta['Away']) & (FraVSIta['HomeTeam'] == 'France')]\n",
    "Home = FraVSIta.loc[(FraVSIta['HomeTeam'] == 'France')]\n",
    "len(WinHome) / len(Home)"
   ]
  },
  {
   "cell_type": "markdown",
   "metadata": {},
   "source": [
    "**Among all matchup while France as home team and Italy as away team, the winning percentage of France is around 96%.**"
   ]
  },
  {
   "cell_type": "code",
   "execution_count": 42,
   "metadata": {
    "scrolled": true
   },
   "outputs": [
    {
     "data": {
      "text/plain": [
       "0.1111111111111111"
      ]
     },
     "execution_count": 42,
     "metadata": {},
     "output_type": "execute_result"
    }
   ],
   "source": [
    "# Percentage of France VS Italy and Italy won as home team\n",
    "\n",
    "WinHome = FraVSIta.loc[(FraVSIta['Home'] > FraVSIta['Away']) & (FraVSIta['HomeTeam'] == 'Italy')]\n",
    "Home = FraVSIta.loc[(FraVSIta['HomeTeam'] == 'Italy')]\n",
    "len(WinHome) / len(Home)"
   ]
  },
  {
   "cell_type": "markdown",
   "metadata": {},
   "source": [
    "**Among all matchup while Italy as home team and France as away team, the winning percentage of Italy is around 11%.**"
   ]
  },
  {
   "cell_type": "markdown",
   "metadata": {},
   "source": [
    "### France vs Scotland"
   ]
  },
  {
   "cell_type": "code",
   "execution_count": 43,
   "metadata": {},
   "outputs": [
    {
     "data": {
      "text/html": [
       "<div>\n",
       "<style scoped>\n",
       "    .dataframe tbody tr th:only-of-type {\n",
       "        vertical-align: middle;\n",
       "    }\n",
       "\n",
       "    .dataframe tbody tr th {\n",
       "        vertical-align: top;\n",
       "    }\n",
       "\n",
       "    .dataframe thead th {\n",
       "        text-align: right;\n",
       "    }\n",
       "</style>\n",
       "<table border=\"1\" class=\"dataframe\">\n",
       "  <thead>\n",
       "    <tr style=\"text-align: right;\">\n",
       "      <th></th>\n",
       "      <th>Unnamed: 0</th>\n",
       "      <th>HomeTeam</th>\n",
       "      <th>Score</th>\n",
       "      <th>AwayTeam</th>\n",
       "      <th>Date</th>\n",
       "      <th>Ground</th>\n",
       "      <th>Home</th>\n",
       "      <th>Away</th>\n",
       "    </tr>\n",
       "  </thead>\n",
       "  <tbody>\n",
       "    <tr>\n",
       "      <th>0</th>\n",
       "      <td>0</td>\n",
       "      <td>France</td>\n",
       "      <td>23 - 16</td>\n",
       "      <td>Scotland</td>\n",
       "      <td>2013-03-16</td>\n",
       "      <td>Stade de France Paris, France</td>\n",
       "      <td>23</td>\n",
       "      <td>16</td>\n",
       "    </tr>\n",
       "    <tr>\n",
       "      <th>1</th>\n",
       "      <td>1</td>\n",
       "      <td>France</td>\n",
       "      <td>34 - 21</td>\n",
       "      <td>Scotland</td>\n",
       "      <td>2011-02-05</td>\n",
       "      <td>Stade de France Paris, France</td>\n",
       "      <td>34</td>\n",
       "      <td>21</td>\n",
       "    </tr>\n",
       "    <tr>\n",
       "      <th>2</th>\n",
       "      <td>2</td>\n",
       "      <td>France</td>\n",
       "      <td>22 - 13</td>\n",
       "      <td>Scotland</td>\n",
       "      <td>2009-02-14</td>\n",
       "      <td>Stade de France Paris, France</td>\n",
       "      <td>22</td>\n",
       "      <td>13</td>\n",
       "    </tr>\n",
       "    <tr>\n",
       "      <th>3</th>\n",
       "      <td>3</td>\n",
       "      <td>France</td>\n",
       "      <td>46 - 19</td>\n",
       "      <td>Scotland</td>\n",
       "      <td>2007-03-17</td>\n",
       "      <td>Stade de France Paris, France</td>\n",
       "      <td>46</td>\n",
       "      <td>19</td>\n",
       "    </tr>\n",
       "    <tr>\n",
       "      <th>4</th>\n",
       "      <td>4</td>\n",
       "      <td>France</td>\n",
       "      <td>16 - 9</td>\n",
       "      <td>Scotland</td>\n",
       "      <td>2005-02-05</td>\n",
       "      <td>Stade de France Paris, France</td>\n",
       "      <td>16</td>\n",
       "      <td>9</td>\n",
       "    </tr>\n",
       "  </tbody>\n",
       "</table>\n",
       "</div>"
      ],
      "text/plain": [
       "   Unnamed: 0 HomeTeam    Score  AwayTeam       Date  \\\n",
       "0           0   France  23 - 16  Scotland 2013-03-16   \n",
       "1           1   France  34 - 21  Scotland 2011-02-05   \n",
       "2           2   France  22 - 13  Scotland 2009-02-14   \n",
       "3           3   France  46 - 19  Scotland 2007-03-17   \n",
       "4           4   France   16 - 9  Scotland 2005-02-05   \n",
       "\n",
       "                          Ground  Home  Away  \n",
       "0  Stade de France Paris, France    23    16  \n",
       "1  Stade de France Paris, France    34    21  \n",
       "2  Stade de France Paris, France    22    13  \n",
       "3  Stade de France Paris, France    46    19  \n",
       "4  Stade de France Paris, France    16     9  "
      ]
     },
     "execution_count": 43,
     "metadata": {},
     "output_type": "execute_result"
    }
   ],
   "source": [
    "temp = FraVSSco[['Score']]\n",
    "temp = temp['Score'].str.split(\" - \", expand = True)\n",
    "temp.columns = ['Home', 'Away']\n",
    "temp.Home = temp.Home.astype(int)\n",
    "temp.Away = temp.Away.astype(int)\n",
    "FraVSSco = FraVSSco.join(temp)\n",
    "FraVSSco.head()"
   ]
  },
  {
   "cell_type": "code",
   "execution_count": 44,
   "metadata": {},
   "outputs": [
    {
     "data": {
      "image/png": "[encoded data removed]",
      "text/plain": [
       "<Figure size 1440x216 with 1 Axes>"
      ]
     },
     "metadata": {
      "needs_background": "light"
     },
     "output_type": "display_data"
    }
   ],
   "source": [
    "# Home team's scoring by year (negetive scores mean losing the game)\n",
    "\n",
    "data = FraVSSco[['Home','Away','Date']].sort_values(by=['Date'])\n",
    "data['Home_Win'] = data['Home'] - (data['Away'])\n",
    "data.plot('Date','Home_Win',subplots=True,figsize=(20,3)) \n",
    "plt.show()"
   ]
  },
  {
   "cell_type": "code",
   "execution_count": 45,
   "metadata": {},
   "outputs": [
    {
     "data": {
      "text/plain": [
       "0.7291666666666666"
      ]
     },
     "execution_count": 45,
     "metadata": {},
     "output_type": "execute_result"
    }
   ],
   "source": [
    "# Percentage of France VS Scotland and France won as home team\n",
    "\n",
    "WinHome = FraVSSco.loc[(FraVSSco['Home'] > FraVSSco['Away']) & (FraVSSco['HomeTeam'] == 'France')]\n",
    "Home = FraVSSco.loc[(FraVSSco['HomeTeam'] == 'France')]\n",
    "len(WinHome) / len(Home)"
   ]
  },
  {
   "cell_type": "markdown",
   "metadata": {},
   "source": [
    "**Among all matchup while France as home team and Scotland as away team, the winning percentage of France is around 73%.**"
   ]
  },
  {
   "cell_type": "code",
   "execution_count": 46,
   "metadata": {
    "scrolled": true
   },
   "outputs": [
    {
     "data": {
      "text/plain": [
       "0.5681818181818182"
      ]
     },
     "execution_count": 46,
     "metadata": {},
     "output_type": "execute_result"
    }
   ],
   "source": [
    "# Percentage of France VS Scotland and Scotland won as home team\n",
    "\n",
    "WinHome = FraVSSco.loc[(FraVSSco['Home'] > FraVSSco['Away']) & (FraVSSco['HomeTeam'] == 'Scotland')]\n",
    "Home = FraVSSco.loc[(FraVSSco['HomeTeam'] == 'Scotland')]\n",
    "len(WinHome) / len(Home)"
   ]
  },
  {
   "cell_type": "markdown",
   "metadata": {},
   "source": [
    "**Among all matchup while Scotland as home team and France as away team, the winning percentage of Scotland is around 57%.**"
   ]
  },
  {
   "cell_type": "markdown",
   "metadata": {},
   "source": [
    "### France vs Wales"
   ]
  },
  {
   "cell_type": "code",
   "execution_count": 47,
   "metadata": {
    "scrolled": true
   },
   "outputs": [
    {
     "data": {
      "text/html": [
       "<div>\n",
       "<style scoped>\n",
       "    .dataframe tbody tr th:only-of-type {\n",
       "        vertical-align: middle;\n",
       "    }\n",
       "\n",
       "    .dataframe tbody tr th {\n",
       "        vertical-align: top;\n",
       "    }\n",
       "\n",
       "    .dataframe thead th {\n",
       "        text-align: right;\n",
       "    }\n",
       "</style>\n",
       "<table border=\"1\" class=\"dataframe\">\n",
       "  <thead>\n",
       "    <tr style=\"text-align: right;\">\n",
       "      <th></th>\n",
       "      <th>Unnamed: 0</th>\n",
       "      <th>HomeTeam</th>\n",
       "      <th>Score</th>\n",
       "      <th>AwayTeam</th>\n",
       "      <th>Date</th>\n",
       "      <th>Ground</th>\n",
       "      <th>Home</th>\n",
       "      <th>Away</th>\n",
       "    </tr>\n",
       "  </thead>\n",
       "  <tbody>\n",
       "    <tr>\n",
       "      <th>0</th>\n",
       "      <td>0</td>\n",
       "      <td>France</td>\n",
       "      <td>6 - 16</td>\n",
       "      <td>Wales</td>\n",
       "      <td>2013-02-09</td>\n",
       "      <td>Stade de France Paris, France</td>\n",
       "      <td>6</td>\n",
       "      <td>16</td>\n",
       "    </tr>\n",
       "    <tr>\n",
       "      <th>1</th>\n",
       "      <td>1</td>\n",
       "      <td>France</td>\n",
       "      <td>28 - 9</td>\n",
       "      <td>Wales</td>\n",
       "      <td>2011-03-19</td>\n",
       "      <td>Stade de France Paris, France</td>\n",
       "      <td>28</td>\n",
       "      <td>9</td>\n",
       "    </tr>\n",
       "    <tr>\n",
       "      <th>2</th>\n",
       "      <td>2</td>\n",
       "      <td>France</td>\n",
       "      <td>21 - 16</td>\n",
       "      <td>Wales</td>\n",
       "      <td>2009-02-27</td>\n",
       "      <td>Stade de France Paris, France</td>\n",
       "      <td>21</td>\n",
       "      <td>16</td>\n",
       "    </tr>\n",
       "    <tr>\n",
       "      <th>3</th>\n",
       "      <td>3</td>\n",
       "      <td>France</td>\n",
       "      <td>32 - 21</td>\n",
       "      <td>Wales</td>\n",
       "      <td>2007-02-24</td>\n",
       "      <td>Stade de France Paris, France</td>\n",
       "      <td>32</td>\n",
       "      <td>21</td>\n",
       "    </tr>\n",
       "    <tr>\n",
       "      <th>4</th>\n",
       "      <td>4</td>\n",
       "      <td>France</td>\n",
       "      <td>18 - 24</td>\n",
       "      <td>Wales</td>\n",
       "      <td>2005-02-26</td>\n",
       "      <td>Stade de France Paris, France</td>\n",
       "      <td>18</td>\n",
       "      <td>24</td>\n",
       "    </tr>\n",
       "  </tbody>\n",
       "</table>\n",
       "</div>"
      ],
      "text/plain": [
       "   Unnamed: 0 HomeTeam    Score AwayTeam       Date  \\\n",
       "0           0   France   6 - 16    Wales 2013-02-09   \n",
       "1           1   France   28 - 9    Wales 2011-03-19   \n",
       "2           2   France  21 - 16    Wales 2009-02-27   \n",
       "3           3   France  32 - 21    Wales 2007-02-24   \n",
       "4           4   France  18 - 24    Wales 2005-02-26   \n",
       "\n",
       "                          Ground  Home  Away  \n",
       "0  Stade de France Paris, France     6    16  \n",
       "1  Stade de France Paris, France    28     9  \n",
       "2  Stade de France Paris, France    21    16  \n",
       "3  Stade de France Paris, France    32    21  \n",
       "4  Stade de France Paris, France    18    24  "
      ]
     },
     "execution_count": 47,
     "metadata": {},
     "output_type": "execute_result"
    }
   ],
   "source": [
    "temp = FraVSWal[['Score']]\n",
    "temp = temp['Score'].str.split(\" - \", expand = True)\n",
    "temp.columns = ['Home', 'Away']\n",
    "temp.Home = temp.Home.astype(int)\n",
    "temp.Away = temp.Away.astype(int)\n",
    "FraVSWal = FraVSWal.join(temp)\n",
    "FraVSWal.head()"
   ]
  },
  {
   "cell_type": "code",
   "execution_count": 48,
   "metadata": {},
   "outputs": [
    {
     "data": {
      "image/png": "[encoded data removed]",
      "text/plain": [
       "<Figure size 1440x216 with 1 Axes>"
      ]
     },
     "metadata": {
      "needs_background": "light"
     },
     "output_type": "display_data"
    }
   ],
   "source": [
    "# Home team's scoring by year (negetive scores mean losing the game)\n",
    "\n",
    "data = FraVSWal[['Home','Away','Date']].sort_values(by=['Date'])\n",
    "data['Home_Win'] = data['Home'] - (data['Away'])\n",
    "data.plot('Date','Home_Win',subplots=True,figsize=(20,3)) \n",
    "plt.show()"
   ]
  },
  {
   "cell_type": "code",
   "execution_count": 49,
   "metadata": {},
   "outputs": [
    {
     "data": {
      "text/plain": [
       "0.5652173913043478"
      ]
     },
     "execution_count": 49,
     "metadata": {},
     "output_type": "execute_result"
    }
   ],
   "source": [
    "# Percentage of France VS Wales and France won as home team\n",
    "\n",
    "WinHome = FraVSWal.loc[(FraVSWal['Home'] > FraVSWal['Away']) & (FraVSWal['HomeTeam'] == 'France')]\n",
    "Home = FraVSWal.loc[(FraVSWal['HomeTeam'] == 'France')]\n",
    "len(WinHome) / len(Home)"
   ]
  },
  {
   "cell_type": "markdown",
   "metadata": {},
   "source": [
    "**Among all matchup while France as home team and Wales as away team, the winning percentage of France is around 57%.**"
   ]
  },
  {
   "cell_type": "code",
   "execution_count": 50,
   "metadata": {
    "scrolled": false
   },
   "outputs": [
    {
     "data": {
      "text/plain": [
       "0.6"
      ]
     },
     "execution_count": 50,
     "metadata": {},
     "output_type": "execute_result"
    }
   ],
   "source": [
    "# Percentage of France VS Wales and Wales won as home team\n",
    "\n",
    "WinHome = FraVSWal.loc[(FraVSWal['Home'] > FraVSWal['Away']) & (FraVSWal['HomeTeam'] == 'Wales')]\n",
    "Home = FraVSWal.loc[(FraVSWal['HomeTeam'] == 'Wales')]\n",
    "len(WinHome) / len(Home)"
   ]
  },
  {
   "cell_type": "markdown",
   "metadata": {},
   "source": [
    "**Among all matchup while Wales as home team and France as away team, the winning percentage of Wales is 60%.**"
   ]
  },
  {
   "cell_type": "markdown",
   "metadata": {},
   "source": [
    "### Ireland vs Scotland"
   ]
  },
  {
   "cell_type": "code",
   "execution_count": 51,
   "metadata": {
    "scrolled": true
   },
   "outputs": [
    {
     "data": {
      "text/html": [
       "<div>\n",
       "<style scoped>\n",
       "    .dataframe tbody tr th:only-of-type {\n",
       "        vertical-align: middle;\n",
       "    }\n",
       "\n",
       "    .dataframe tbody tr th {\n",
       "        vertical-align: top;\n",
       "    }\n",
       "\n",
       "    .dataframe thead th {\n",
       "        text-align: right;\n",
       "    }\n",
       "</style>\n",
       "<table border=\"1\" class=\"dataframe\">\n",
       "  <thead>\n",
       "    <tr style=\"text-align: right;\">\n",
       "      <th></th>\n",
       "      <th>Unnamed: 0</th>\n",
       "      <th>HomeTeam</th>\n",
       "      <th>Score</th>\n",
       "      <th>AwayTeam</th>\n",
       "      <th>Date</th>\n",
       "      <th>Ground</th>\n",
       "      <th>Home</th>\n",
       "      <th>Away</th>\n",
       "    </tr>\n",
       "  </thead>\n",
       "  <tbody>\n",
       "    <tr>\n",
       "      <th>0</th>\n",
       "      <td>0</td>\n",
       "      <td>Ireland</td>\n",
       "      <td>28 - 6</td>\n",
       "      <td>Scotland</td>\n",
       "      <td>2014-02-02</td>\n",
       "      <td>Aviva Stadium Dublin, Ireland</td>\n",
       "      <td>28</td>\n",
       "      <td>6</td>\n",
       "    </tr>\n",
       "    <tr>\n",
       "      <th>1</th>\n",
       "      <td>1</td>\n",
       "      <td>Ireland</td>\n",
       "      <td>32 - 14</td>\n",
       "      <td>Scotland</td>\n",
       "      <td>2012-03-10</td>\n",
       "      <td>Aviva Stadium Dublin, Ireland</td>\n",
       "      <td>32</td>\n",
       "      <td>14</td>\n",
       "    </tr>\n",
       "    <tr>\n",
       "      <th>2</th>\n",
       "      <td>2</td>\n",
       "      <td>Ireland</td>\n",
       "      <td>20 - 23</td>\n",
       "      <td>Scotland</td>\n",
       "      <td>2010-03-20</td>\n",
       "      <td>Croke Park Dublin, Ireland</td>\n",
       "      <td>20</td>\n",
       "      <td>23</td>\n",
       "    </tr>\n",
       "    <tr>\n",
       "      <th>3</th>\n",
       "      <td>3</td>\n",
       "      <td>Ireland</td>\n",
       "      <td>34 - 13</td>\n",
       "      <td>Scotland</td>\n",
       "      <td>2008-02-23</td>\n",
       "      <td>Croke Park Dublin, Ireland</td>\n",
       "      <td>34</td>\n",
       "      <td>13</td>\n",
       "    </tr>\n",
       "    <tr>\n",
       "      <th>4</th>\n",
       "      <td>4</td>\n",
       "      <td>Ireland</td>\n",
       "      <td>15 - 9</td>\n",
       "      <td>Scotland</td>\n",
       "      <td>2006-03-11</td>\n",
       "      <td>Lansdowne Road Dublin, Ireland</td>\n",
       "      <td>15</td>\n",
       "      <td>9</td>\n",
       "    </tr>\n",
       "  </tbody>\n",
       "</table>\n",
       "</div>"
      ],
      "text/plain": [
       "   Unnamed: 0 HomeTeam    Score  AwayTeam       Date  \\\n",
       "0           0  Ireland   28 - 6  Scotland 2014-02-02   \n",
       "1           1  Ireland  32 - 14  Scotland 2012-03-10   \n",
       "2           2  Ireland  20 - 23  Scotland 2010-03-20   \n",
       "3           3  Ireland  34 - 13  Scotland 2008-02-23   \n",
       "4           4  Ireland   15 - 9  Scotland 2006-03-11   \n",
       "\n",
       "                           Ground  Home  Away  \n",
       "0   Aviva Stadium Dublin, Ireland    28     6  \n",
       "1   Aviva Stadium Dublin, Ireland    32    14  \n",
       "2      Croke Park Dublin, Ireland    20    23  \n",
       "3      Croke Park Dublin, Ireland    34    13  \n",
       "4  Lansdowne Road Dublin, Ireland    15     9  "
      ]
     },
     "execution_count": 51,
     "metadata": {},
     "output_type": "execute_result"
    }
   ],
   "source": [
    "temp = IreVSSco[['Score']]\n",
    "temp = temp['Score'].str.split(\" - \", expand = True)\n",
    "temp.columns = ['Home', 'Away']\n",
    "temp.Home = temp.Home.astype(int)\n",
    "temp.Away = temp.Away.astype(int)\n",
    "IreVSSco = IreVSSco.join(temp)\n",
    "IreVSSco.head()"
   ]
  },
  {
   "cell_type": "code",
   "execution_count": 52,
   "metadata": {},
   "outputs": [
    {
     "data": {
      "image/png": "[encoded data removed]",
      "text/plain": [
       "<Figure size 1440x216 with 1 Axes>"
      ]
     },
     "metadata": {
      "needs_background": "light"
     },
     "output_type": "display_data"
    }
   ],
   "source": [
    "# Home team's scoring by year (negetive scores mean losing the game)\n",
    "\n",
    "data = IreVSSco[['Home','Away','Date']].sort_values(by=['Date'])\n",
    "data['Home_Win'] = data['Home'] - (data['Away'])\n",
    "data.plot('Date','Home_Win',subplots=True,figsize=(20,3)) \n",
    "plt.show()"
   ]
  },
  {
   "cell_type": "code",
   "execution_count": 53,
   "metadata": {},
   "outputs": [
    {
     "data": {
      "text/plain": [
       "0.5303030303030303"
      ]
     },
     "execution_count": 53,
     "metadata": {},
     "output_type": "execute_result"
    }
   ],
   "source": [
    "# Percentage of Ireland VS Scotland and Ireland won as home team\n",
    "\n",
    "WinHome = IreVSSco.loc[(IreVSSco['Home'] > IreVSSco['Away']) & (IreVSSco['HomeTeam'] == 'Ireland')]\n",
    "Home = IreVSSco.loc[(IreVSSco['HomeTeam'] == 'Ireland')]\n",
    "len(WinHome) / len(Home)"
   ]
  },
  {
   "cell_type": "markdown",
   "metadata": {},
   "source": [
    "**Among all matchup while Ireland as home team and Scotland as away team, the winning percentage of Ireland is around 53%.**"
   ]
  },
  {
   "cell_type": "code",
   "execution_count": 54,
   "metadata": {
    "scrolled": false
   },
   "outputs": [
    {
     "data": {
      "text/plain": [
       "0.5882352941176471"
      ]
     },
     "execution_count": 54,
     "metadata": {},
     "output_type": "execute_result"
    }
   ],
   "source": [
    "# Percentage of Ireland VS Scotland and Scotland won as home team\n",
    "\n",
    "WinHome = IreVSSco.loc[(IreVSSco['Home'] > IreVSSco['Away']) & (IreVSSco['HomeTeam'] == 'Scotland')]\n",
    "Home = IreVSSco.loc[(IreVSSco['HomeTeam'] == 'Scotland')]\n",
    "len(WinHome) / len(Home)"
   ]
  },
  {
   "cell_type": "markdown",
   "metadata": {},
   "source": [
    "**Among all matchup while Scotland as home team and Ireland as away team, the winning percentage of Scotland is 59%.**"
   ]
  },
  {
   "cell_type": "markdown",
   "metadata": {},
   "source": [
    "### Italy vs Ireland"
   ]
  },
  {
   "cell_type": "code",
   "execution_count": 55,
   "metadata": {},
   "outputs": [
    {
     "data": {
      "text/html": [
       "<div>\n",
       "<style scoped>\n",
       "    .dataframe tbody tr th:only-of-type {\n",
       "        vertical-align: middle;\n",
       "    }\n",
       "\n",
       "    .dataframe tbody tr th {\n",
       "        vertical-align: top;\n",
       "    }\n",
       "\n",
       "    .dataframe thead th {\n",
       "        text-align: right;\n",
       "    }\n",
       "</style>\n",
       "<table border=\"1\" class=\"dataframe\">\n",
       "  <thead>\n",
       "    <tr style=\"text-align: right;\">\n",
       "      <th></th>\n",
       "      <th>Unnamed: 0</th>\n",
       "      <th>HomeTeam</th>\n",
       "      <th>Score</th>\n",
       "      <th>AwayTeam</th>\n",
       "      <th>Date</th>\n",
       "      <th>Ground</th>\n",
       "      <th>Home</th>\n",
       "      <th>Away</th>\n",
       "    </tr>\n",
       "  </thead>\n",
       "  <tbody>\n",
       "    <tr>\n",
       "      <th>0</th>\n",
       "      <td>0</td>\n",
       "      <td>Italy</td>\n",
       "      <td>22 - 15</td>\n",
       "      <td>Ireland</td>\n",
       "      <td>2013-03-16</td>\n",
       "      <td>Stadio Olimpico Rome, Italy</td>\n",
       "      <td>22</td>\n",
       "      <td>15</td>\n",
       "    </tr>\n",
       "    <tr>\n",
       "      <th>1</th>\n",
       "      <td>1</td>\n",
       "      <td>Italy</td>\n",
       "      <td>11 - 13</td>\n",
       "      <td>Ireland</td>\n",
       "      <td>2011-02-05</td>\n",
       "      <td>Stadio Flaminio Rome, Italy</td>\n",
       "      <td>11</td>\n",
       "      <td>13</td>\n",
       "    </tr>\n",
       "    <tr>\n",
       "      <th>2</th>\n",
       "      <td>2</td>\n",
       "      <td>Italy</td>\n",
       "      <td>9 - 38</td>\n",
       "      <td>Ireland</td>\n",
       "      <td>2009-02-15</td>\n",
       "      <td>Stadio Flaminio Rome, Italy</td>\n",
       "      <td>9</td>\n",
       "      <td>38</td>\n",
       "    </tr>\n",
       "    <tr>\n",
       "      <th>3</th>\n",
       "      <td>3</td>\n",
       "      <td>Italy</td>\n",
       "      <td>24 - 51</td>\n",
       "      <td>Ireland</td>\n",
       "      <td>2007-03-17</td>\n",
       "      <td>Stadio Flaminio Rome, Italy</td>\n",
       "      <td>24</td>\n",
       "      <td>51</td>\n",
       "    </tr>\n",
       "    <tr>\n",
       "      <th>4</th>\n",
       "      <td>4</td>\n",
       "      <td>Italy</td>\n",
       "      <td>17 - 28</td>\n",
       "      <td>Ireland</td>\n",
       "      <td>2005-02-06</td>\n",
       "      <td>Stadio Flaminio Rome, Italy</td>\n",
       "      <td>17</td>\n",
       "      <td>28</td>\n",
       "    </tr>\n",
       "  </tbody>\n",
       "</table>\n",
       "</div>"
      ],
      "text/plain": [
       "   Unnamed: 0 HomeTeam    Score AwayTeam       Date  \\\n",
       "0           0    Italy  22 - 15  Ireland 2013-03-16   \n",
       "1           1    Italy  11 - 13  Ireland 2011-02-05   \n",
       "2           2    Italy   9 - 38  Ireland 2009-02-15   \n",
       "3           3    Italy  24 - 51  Ireland 2007-03-17   \n",
       "4           4    Italy  17 - 28  Ireland 2005-02-06   \n",
       "\n",
       "                        Ground  Home  Away  \n",
       "0  Stadio Olimpico Rome, Italy    22    15  \n",
       "1  Stadio Flaminio Rome, Italy    11    13  \n",
       "2  Stadio Flaminio Rome, Italy     9    38  \n",
       "3  Stadio Flaminio Rome, Italy    24    51  \n",
       "4  Stadio Flaminio Rome, Italy    17    28  "
      ]
     },
     "execution_count": 55,
     "metadata": {},
     "output_type": "execute_result"
    }
   ],
   "source": [
    "temp = ItaVSIre[['Score']]\n",
    "temp = temp['Score'].str.split(\" - \", expand = True)\n",
    "temp.columns = ['Home', 'Away']\n",
    "temp.Home = temp.Home.astype(int)\n",
    "temp.Away = temp.Away.astype(int)\n",
    "ItaVSIre = ItaVSIre.join(temp)\n",
    "ItaVSIre.head()"
   ]
  },
  {
   "cell_type": "code",
   "execution_count": 56,
   "metadata": {},
   "outputs": [
    {
     "data": {
      "image/png": "[encoded data removed]",
      "text/plain": [
       "<Figure size 1440x216 with 1 Axes>"
      ]
     },
     "metadata": {
      "needs_background": "light"
     },
     "output_type": "display_data"
    }
   ],
   "source": [
    "# Home team's scoring by year (negetive scores mean losing the game)\n",
    "\n",
    "data = ItaVSIre[['Home','Away','Date']].sort_values(by=['Date'])\n",
    "data['Home_Win'] = data['Home'] - (data['Away'])\n",
    "data.plot('Date','Home_Win',subplots=True,figsize=(20,3)) \n",
    "plt.show()"
   ]
  },
  {
   "cell_type": "code",
   "execution_count": 57,
   "metadata": {},
   "outputs": [
    {
     "data": {
      "text/plain": [
       "0.2727272727272727"
      ]
     },
     "execution_count": 57,
     "metadata": {},
     "output_type": "execute_result"
    }
   ],
   "source": [
    "# Percentage of Italy VS Ireland and Italy won as home team\n",
    "\n",
    "WinHome = ItaVSIre.loc[(ItaVSIre['Home'] > ItaVSIre['Away']) & (ItaVSIre['HomeTeam'] == 'Italy')]\n",
    "Home = ItaVSIre.loc[(ItaVSIre['HomeTeam'] == 'Italy')]\n",
    "len(WinHome) / len(Home)"
   ]
  },
  {
   "cell_type": "markdown",
   "metadata": {},
   "source": [
    "**Among all matchup while Italy as home team and Ireland as away team, the winning percentage of Italy is around 27%.**"
   ]
  },
  {
   "cell_type": "code",
   "execution_count": 58,
   "metadata": {
    "scrolled": false
   },
   "outputs": [
    {
     "data": {
      "text/plain": [
       "0.9444444444444444"
      ]
     },
     "execution_count": 58,
     "metadata": {},
     "output_type": "execute_result"
    }
   ],
   "source": [
    "# Percentage of Italy VS Ireland and Ireland won as home team\n",
    "\n",
    "WinHome = ItaVSIre.loc[(ItaVSIre['Home'] > ItaVSIre['Away']) & (ItaVSIre['HomeTeam'] == 'Ireland')]\n",
    "Home = ItaVSIre.loc[(ItaVSIre['HomeTeam'] == 'Ireland')]\n",
    "len(WinHome) / len(Home)"
   ]
  },
  {
   "cell_type": "markdown",
   "metadata": {},
   "source": [
    "**Among all matchup while Ireland as home team and Italy as away team, the winning percentage of Ireland is 94%.**"
   ]
  },
  {
   "cell_type": "markdown",
   "metadata": {},
   "source": [
    "### Italy vs Scotland"
   ]
  },
  {
   "cell_type": "code",
   "execution_count": 59,
   "metadata": {},
   "outputs": [
    {
     "data": {
      "text/html": [
       "<div>\n",
       "<style scoped>\n",
       "    .dataframe tbody tr th:only-of-type {\n",
       "        vertical-align: middle;\n",
       "    }\n",
       "\n",
       "    .dataframe tbody tr th {\n",
       "        vertical-align: top;\n",
       "    }\n",
       "\n",
       "    .dataframe thead th {\n",
       "        text-align: right;\n",
       "    }\n",
       "</style>\n",
       "<table border=\"1\" class=\"dataframe\">\n",
       "  <thead>\n",
       "    <tr style=\"text-align: right;\">\n",
       "      <th></th>\n",
       "      <th>Unnamed: 0</th>\n",
       "      <th>HomeTeam</th>\n",
       "      <th>Score</th>\n",
       "      <th>AwayTeam</th>\n",
       "      <th>Date</th>\n",
       "      <th>Ground</th>\n",
       "      <th>Home</th>\n",
       "      <th>Away</th>\n",
       "    </tr>\n",
       "  </thead>\n",
       "  <tbody>\n",
       "    <tr>\n",
       "      <th>0</th>\n",
       "      <td>0</td>\n",
       "      <td>Italy</td>\n",
       "      <td>20 - 21</td>\n",
       "      <td>Scotland</td>\n",
       "      <td>2014-02-22</td>\n",
       "      <td>Stadio Olimpico Rome, Italy</td>\n",
       "      <td>20</td>\n",
       "      <td>21</td>\n",
       "    </tr>\n",
       "    <tr>\n",
       "      <th>1</th>\n",
       "      <td>1</td>\n",
       "      <td>Italy</td>\n",
       "      <td>13 - 6</td>\n",
       "      <td>Scotland</td>\n",
       "      <td>2012-03-17</td>\n",
       "      <td>Stadio Olimpico Rome, Italy</td>\n",
       "      <td>13</td>\n",
       "      <td>6</td>\n",
       "    </tr>\n",
       "    <tr>\n",
       "      <th>2</th>\n",
       "      <td>2</td>\n",
       "      <td>Italy</td>\n",
       "      <td>16 - 12</td>\n",
       "      <td>Scotland</td>\n",
       "      <td>2010-02-27</td>\n",
       "      <td>Stadio Flaminio Rome, Italy</td>\n",
       "      <td>16</td>\n",
       "      <td>12</td>\n",
       "    </tr>\n",
       "    <tr>\n",
       "      <th>3</th>\n",
       "      <td>3</td>\n",
       "      <td>Italy</td>\n",
       "      <td>23 - 20</td>\n",
       "      <td>Scotland</td>\n",
       "      <td>2008-03-15</td>\n",
       "      <td>Stadio Flaminio Rome, Italy</td>\n",
       "      <td>23</td>\n",
       "      <td>20</td>\n",
       "    </tr>\n",
       "    <tr>\n",
       "      <th>4</th>\n",
       "      <td>4</td>\n",
       "      <td>Italy</td>\n",
       "      <td>10 - 13</td>\n",
       "      <td>Scotland</td>\n",
       "      <td>2006-03-18</td>\n",
       "      <td>Stadio Flaminio Rome, Italy</td>\n",
       "      <td>10</td>\n",
       "      <td>13</td>\n",
       "    </tr>\n",
       "  </tbody>\n",
       "</table>\n",
       "</div>"
      ],
      "text/plain": [
       "   Unnamed: 0 HomeTeam    Score  AwayTeam       Date  \\\n",
       "0           0    Italy  20 - 21  Scotland 2014-02-22   \n",
       "1           1    Italy   13 - 6  Scotland 2012-03-17   \n",
       "2           2    Italy  16 - 12  Scotland 2010-02-27   \n",
       "3           3    Italy  23 - 20  Scotland 2008-03-15   \n",
       "4           4    Italy  10 - 13  Scotland 2006-03-18   \n",
       "\n",
       "                        Ground  Home  Away  \n",
       "0  Stadio Olimpico Rome, Italy    20    21  \n",
       "1  Stadio Olimpico Rome, Italy    13     6  \n",
       "2  Stadio Flaminio Rome, Italy    16    12  \n",
       "3  Stadio Flaminio Rome, Italy    23    20  \n",
       "4  Stadio Flaminio Rome, Italy    10    13  "
      ]
     },
     "execution_count": 59,
     "metadata": {},
     "output_type": "execute_result"
    }
   ],
   "source": [
    "temp = ItaVSSco[['Score']]\n",
    "temp = temp['Score'].str.split(\" - \", expand = True)\n",
    "temp.columns = ['Home', 'Away']\n",
    "temp.Home = temp.Home.astype(int)\n",
    "temp.Away = temp.Away.astype(int)\n",
    "ItaVSSco = ItaVSSco.join(temp)\n",
    "ItaVSSco.head()"
   ]
  },
  {
   "cell_type": "code",
   "execution_count": 60,
   "metadata": {},
   "outputs": [
    {
     "data": {
      "image/png": "[encoded data removed]",
      "text/plain": [
       "<Figure size 1440x216 with 1 Axes>"
      ]
     },
     "metadata": {
      "needs_background": "light"
     },
     "output_type": "display_data"
    }
   ],
   "source": [
    "# Home team's scoring by year (negetive scores mean losing the game)\n",
    "\n",
    "data = ItaVSSco[['Home','Away','Date']].sort_values(by=['Date'])\n",
    "data['Home_Win'] = data['Home'] - (data['Away'])\n",
    "data.plot('Date','Home_Win',subplots=True,figsize=(20,3)) \n",
    "plt.show()"
   ]
  },
  {
   "cell_type": "code",
   "execution_count": 61,
   "metadata": {},
   "outputs": [
    {
     "data": {
      "text/plain": [
       "0.46153846153846156"
      ]
     },
     "execution_count": 61,
     "metadata": {},
     "output_type": "execute_result"
    }
   ],
   "source": [
    "# Percentage of Italy VS Scotland and Italy won as home team\n",
    "\n",
    "WinHome = ItaVSSco.loc[(ItaVSSco['Home'] > ItaVSSco['Away']) & (ItaVSSco['HomeTeam'] == 'Italy')]\n",
    "Home = ItaVSSco.loc[(ItaVSSco['HomeTeam'] == 'Italy')]\n",
    "len(WinHome) / len(Home)"
   ]
  },
  {
   "cell_type": "markdown",
   "metadata": {},
   "source": [
    "**Among all matchup while Italy as home team and Scotland as away team, the winning percentage of Italy is around 46%.**"
   ]
  },
  {
   "cell_type": "code",
   "execution_count": 62,
   "metadata": {
    "scrolled": true
   },
   "outputs": [
    {
     "data": {
      "text/plain": [
       "0.875"
      ]
     },
     "execution_count": 62,
     "metadata": {},
     "output_type": "execute_result"
    }
   ],
   "source": [
    "# Percentage of Italy VS Scotland and Scotland won as home team\n",
    "\n",
    "WinHome = ItaVSSco.loc[(ItaVSSco['Home'] > ItaVSSco['Away']) & (ItaVSSco['HomeTeam'] == 'Scotland')]\n",
    "Home = ItaVSSco.loc[(ItaVSSco['HomeTeam'] == 'Scotland')]\n",
    "len(WinHome) / len(Home)"
   ]
  },
  {
   "cell_type": "markdown",
   "metadata": {},
   "source": [
    "**Among all matchup while Scotland as home team and Italy as away team, the winning percentage of Scotland is 88%.**"
   ]
  },
  {
   "cell_type": "markdown",
   "metadata": {},
   "source": [
    "### Italy vs Wales"
   ]
  },
  {
   "cell_type": "code",
   "execution_count": 63,
   "metadata": {},
   "outputs": [
    {
     "data": {
      "text/html": [
       "<div>\n",
       "<style scoped>\n",
       "    .dataframe tbody tr th:only-of-type {\n",
       "        vertical-align: middle;\n",
       "    }\n",
       "\n",
       "    .dataframe tbody tr th {\n",
       "        vertical-align: top;\n",
       "    }\n",
       "\n",
       "    .dataframe thead th {\n",
       "        text-align: right;\n",
       "    }\n",
       "</style>\n",
       "<table border=\"1\" class=\"dataframe\">\n",
       "  <thead>\n",
       "    <tr style=\"text-align: right;\">\n",
       "      <th></th>\n",
       "      <th>Unnamed: 0</th>\n",
       "      <th>HomeTeam</th>\n",
       "      <th>Score</th>\n",
       "      <th>AwayTeam</th>\n",
       "      <th>Date</th>\n",
       "      <th>Ground</th>\n",
       "      <th>Home</th>\n",
       "      <th>Away</th>\n",
       "    </tr>\n",
       "  </thead>\n",
       "  <tbody>\n",
       "    <tr>\n",
       "      <th>0</th>\n",
       "      <td>0</td>\n",
       "      <td>Italy</td>\n",
       "      <td>9 - 26</td>\n",
       "      <td>Wales</td>\n",
       "      <td>2013-02-23</td>\n",
       "      <td>Stadio Flaminio Rome, Italy</td>\n",
       "      <td>9</td>\n",
       "      <td>26</td>\n",
       "    </tr>\n",
       "    <tr>\n",
       "      <th>1</th>\n",
       "      <td>1</td>\n",
       "      <td>Italy</td>\n",
       "      <td>16 - 24</td>\n",
       "      <td>Wales</td>\n",
       "      <td>2011-02-26</td>\n",
       "      <td>Stadio Flaminio Rome, Italy</td>\n",
       "      <td>16</td>\n",
       "      <td>24</td>\n",
       "    </tr>\n",
       "    <tr>\n",
       "      <th>2</th>\n",
       "      <td>2</td>\n",
       "      <td>Italy</td>\n",
       "      <td>15 - 20</td>\n",
       "      <td>Wales</td>\n",
       "      <td>2009-03-14</td>\n",
       "      <td>Stadio Flaminio Rome, Italy</td>\n",
       "      <td>15</td>\n",
       "      <td>20</td>\n",
       "    </tr>\n",
       "    <tr>\n",
       "      <th>3</th>\n",
       "      <td>3</td>\n",
       "      <td>Italy</td>\n",
       "      <td>23 - 20</td>\n",
       "      <td>Wales</td>\n",
       "      <td>2007-03-10</td>\n",
       "      <td>Stadio Flaminio Rome, Italy</td>\n",
       "      <td>23</td>\n",
       "      <td>20</td>\n",
       "    </tr>\n",
       "    <tr>\n",
       "      <th>4</th>\n",
       "      <td>4</td>\n",
       "      <td>Italy</td>\n",
       "      <td>8 - 38</td>\n",
       "      <td>Wales</td>\n",
       "      <td>2005-02-12</td>\n",
       "      <td>Stadio Flaminio Rome, Italy</td>\n",
       "      <td>8</td>\n",
       "      <td>38</td>\n",
       "    </tr>\n",
       "  </tbody>\n",
       "</table>\n",
       "</div>"
      ],
      "text/plain": [
       "   Unnamed: 0 HomeTeam    Score AwayTeam       Date  \\\n",
       "0           0    Italy   9 - 26    Wales 2013-02-23   \n",
       "1           1    Italy  16 - 24    Wales 2011-02-26   \n",
       "2           2    Italy  15 - 20    Wales 2009-03-14   \n",
       "3           3    Italy  23 - 20    Wales 2007-03-10   \n",
       "4           4    Italy   8 - 38    Wales 2005-02-12   \n",
       "\n",
       "                        Ground  Home  Away  \n",
       "0  Stadio Flaminio Rome, Italy     9    26  \n",
       "1  Stadio Flaminio Rome, Italy    16    24  \n",
       "2  Stadio Flaminio Rome, Italy    15    20  \n",
       "3  Stadio Flaminio Rome, Italy    23    20  \n",
       "4  Stadio Flaminio Rome, Italy     8    38  "
      ]
     },
     "execution_count": 63,
     "metadata": {},
     "output_type": "execute_result"
    }
   ],
   "source": [
    "temp = ItaVSWal[['Score']]\n",
    "temp = temp['Score'].str.split(\" - \", expand = True)\n",
    "temp.columns = ['Home', 'Away']\n",
    "temp.Home = temp.Home.astype(int)\n",
    "temp.Away = temp.Away.astype(int)\n",
    "ItaVSWal = ItaVSWal.join(temp)\n",
    "ItaVSWal.head()"
   ]
  },
  {
   "cell_type": "code",
   "execution_count": 64,
   "metadata": {},
   "outputs": [
    {
     "data": {
      "image/png": "[encoded data removed]",
      "text/plain": [
       "<Figure size 1440x216 with 1 Axes>"
      ]
     },
     "metadata": {
      "needs_background": "light"
     },
     "output_type": "display_data"
    }
   ],
   "source": [
    "# Home team's scoring by year (negetive scores mean losing the game)\n",
    "\n",
    "data = ItaVSWal[['Home','Away','Date']].sort_values(by=['Date'])\n",
    "data['Home_Win'] = data['Home'] - (data['Away'])\n",
    "data.plot('Date','Home_Win',subplots=True,figsize=(20,3)) \n",
    "plt.show()"
   ]
  },
  {
   "cell_type": "code",
   "execution_count": 65,
   "metadata": {},
   "outputs": [
    {
     "data": {
      "text/plain": [
       "0.16666666666666666"
      ]
     },
     "execution_count": 65,
     "metadata": {},
     "output_type": "execute_result"
    }
   ],
   "source": [
    "# Percentage of Italy VS Wales and Italy won as home team\n",
    "\n",
    "WinHome = ItaVSWal.loc[(ItaVSWal['Home'] > ItaVSWal['Away']) & (ItaVSWal['HomeTeam'] == 'Italy')]\n",
    "Home = ItaVSWal.loc[(ItaVSWal['HomeTeam'] == 'Italy')]\n",
    "len(WinHome) / len(Home)"
   ]
  },
  {
   "cell_type": "markdown",
   "metadata": {},
   "source": [
    "**Among all matchup while Italy as home team and Wales as away team, the winning percentage of Italy is around 17%.**"
   ]
  },
  {
   "cell_type": "code",
   "execution_count": 66,
   "metadata": {
    "scrolled": true
   },
   "outputs": [
    {
     "data": {
      "text/plain": [
       "0.9285714285714286"
      ]
     },
     "execution_count": 66,
     "metadata": {},
     "output_type": "execute_result"
    }
   ],
   "source": [
    "# Percentage of Italy VS Wales and Wales won as home team\n",
    "\n",
    "WinHome = ItaVSWal.loc[(ItaVSWal['Home'] > ItaVSWal['Away']) & (ItaVSWal['HomeTeam'] == 'Wales')]\n",
    "Home = ItaVSWal.loc[(ItaVSWal['HomeTeam'] == 'Wales')]\n",
    "len(WinHome) / len(Home)"
   ]
  },
  {
   "cell_type": "markdown",
   "metadata": {},
   "source": [
    "**Among all matchup while Wales as home team and Italy as away team, the winning percentage of Wales is 93%.**"
   ]
  },
  {
   "cell_type": "markdown",
   "metadata": {},
   "source": [
    "### Wales vs Ireland"
   ]
  },
  {
   "cell_type": "code",
   "execution_count": 67,
   "metadata": {},
   "outputs": [
    {
     "data": {
      "text/html": [
       "<div>\n",
       "<style scoped>\n",
       "    .dataframe tbody tr th:only-of-type {\n",
       "        vertical-align: middle;\n",
       "    }\n",
       "\n",
       "    .dataframe tbody tr th {\n",
       "        vertical-align: top;\n",
       "    }\n",
       "\n",
       "    .dataframe thead th {\n",
       "        text-align: right;\n",
       "    }\n",
       "</style>\n",
       "<table border=\"1\" class=\"dataframe\">\n",
       "  <thead>\n",
       "    <tr style=\"text-align: right;\">\n",
       "      <th></th>\n",
       "      <th>Unnamed: 0</th>\n",
       "      <th>HomeTeam</th>\n",
       "      <th>Score</th>\n",
       "      <th>AwayTeam</th>\n",
       "      <th>Date</th>\n",
       "      <th>Ground</th>\n",
       "      <th>Home</th>\n",
       "      <th>Away</th>\n",
       "    </tr>\n",
       "  </thead>\n",
       "  <tbody>\n",
       "    <tr>\n",
       "      <th>0</th>\n",
       "      <td>0</td>\n",
       "      <td>Wales</td>\n",
       "      <td>22 - 30</td>\n",
       "      <td>Ireland</td>\n",
       "      <td>2013-02-02</td>\n",
       "      <td>Millennium Stadium Cardiff, Wales</td>\n",
       "      <td>22</td>\n",
       "      <td>30</td>\n",
       "    </tr>\n",
       "    <tr>\n",
       "      <th>1</th>\n",
       "      <td>1</td>\n",
       "      <td>Wales</td>\n",
       "      <td>19 - 13</td>\n",
       "      <td>Ireland</td>\n",
       "      <td>2011-03-12</td>\n",
       "      <td>Millennium Stadium Cardiff, Wales</td>\n",
       "      <td>19</td>\n",
       "      <td>13</td>\n",
       "    </tr>\n",
       "    <tr>\n",
       "      <th>2</th>\n",
       "      <td>2</td>\n",
       "      <td>Wales</td>\n",
       "      <td>15 - 17</td>\n",
       "      <td>Ireland</td>\n",
       "      <td>2009-03-21</td>\n",
       "      <td>Millennium Stadium Cardiff, Wales</td>\n",
       "      <td>15</td>\n",
       "      <td>17</td>\n",
       "    </tr>\n",
       "    <tr>\n",
       "      <th>3</th>\n",
       "      <td>3</td>\n",
       "      <td>Wales</td>\n",
       "      <td>9 - 19</td>\n",
       "      <td>Ireland</td>\n",
       "      <td>2007-02-04</td>\n",
       "      <td>Millennium Stadium Cardiff, Wales</td>\n",
       "      <td>9</td>\n",
       "      <td>19</td>\n",
       "    </tr>\n",
       "    <tr>\n",
       "      <th>4</th>\n",
       "      <td>4</td>\n",
       "      <td>Wales</td>\n",
       "      <td>32 - 20</td>\n",
       "      <td>Ireland</td>\n",
       "      <td>2005-03-19</td>\n",
       "      <td>Millennium Stadium Cardiff, Wales</td>\n",
       "      <td>32</td>\n",
       "      <td>20</td>\n",
       "    </tr>\n",
       "  </tbody>\n",
       "</table>\n",
       "</div>"
      ],
      "text/plain": [
       "   Unnamed: 0 HomeTeam    Score AwayTeam       Date  \\\n",
       "0           0    Wales  22 - 30  Ireland 2013-02-02   \n",
       "1           1    Wales  19 - 13  Ireland 2011-03-12   \n",
       "2           2    Wales  15 - 17  Ireland 2009-03-21   \n",
       "3           3    Wales   9 - 19  Ireland 2007-02-04   \n",
       "4           4    Wales  32 - 20  Ireland 2005-03-19   \n",
       "\n",
       "                              Ground  Home  Away  \n",
       "0  Millennium Stadium Cardiff, Wales    22    30  \n",
       "1  Millennium Stadium Cardiff, Wales    19    13  \n",
       "2  Millennium Stadium Cardiff, Wales    15    17  \n",
       "3  Millennium Stadium Cardiff, Wales     9    19  \n",
       "4  Millennium Stadium Cardiff, Wales    32    20  "
      ]
     },
     "execution_count": 67,
     "metadata": {},
     "output_type": "execute_result"
    }
   ],
   "source": [
    "temp = WalVSIre[['Score']]\n",
    "temp = temp['Score'].str.split(\" - \", expand = True)\n",
    "temp.columns = ['Home', 'Away']\n",
    "temp.Home = temp.Home.astype(int)\n",
    "temp.Away = temp.Away.astype(int)\n",
    "WalVSIre = WalVSIre.join(temp)\n",
    "WalVSIre.head()"
   ]
  },
  {
   "cell_type": "code",
   "execution_count": 68,
   "metadata": {},
   "outputs": [
    {
     "data": {
      "image/png": "[encoded data removed]",
      "text/plain": [
       "<Figure size 1440x216 with 1 Axes>"
      ]
     },
     "metadata": {
      "needs_background": "light"
     },
     "output_type": "display_data"
    }
   ],
   "source": [
    "# Home team's scoring by year (negetive scores mean losing the game)\n",
    "\n",
    "data = WalVSIre[['Home','Away','Date']].sort_values(by=['Date'])\n",
    "data['Home_Win'] = data['Home'] - (data['Away'])\n",
    "data.plot('Date','Home_Win',subplots=True,figsize=(20,3)) \n",
    "plt.show()"
   ]
  },
  {
   "cell_type": "code",
   "execution_count": 69,
   "metadata": {},
   "outputs": [
    {
     "data": {
      "text/plain": [
       "0.6166666666666667"
      ]
     },
     "execution_count": 69,
     "metadata": {},
     "output_type": "execute_result"
    }
   ],
   "source": [
    "# Percentage of Wales VS Ireland and Wales won as home team\n",
    "\n",
    "WinHome = WalVSIre.loc[(WalVSIre['Home'] > WalVSIre['Away']) & (WalVSIre['HomeTeam'] == 'Wales')]\n",
    "Home = WalVSIre.loc[(WalVSIre['HomeTeam'] == 'Wales')]\n",
    "len(WinHome) / len(Home)"
   ]
  },
  {
   "cell_type": "markdown",
   "metadata": {},
   "source": [
    "**Among all matchup while Wales as home team and Ireland as away team, the winning percentage of Wales is around 62%.**"
   ]
  },
  {
   "cell_type": "code",
   "execution_count": 70,
   "metadata": {
    "scrolled": true
   },
   "outputs": [
    {
     "data": {
      "text/plain": [
       "0.45454545454545453"
      ]
     },
     "execution_count": 70,
     "metadata": {},
     "output_type": "execute_result"
    }
   ],
   "source": [
    "# Percentage of Wales VS Ireland and Ireland won as home team\n",
    "\n",
    "WinHome = WalVSIre.loc[(WalVSIre['Home'] > WalVSIre['Away']) & (WalVSIre['HomeTeam'] == 'Ireland')]\n",
    "Home = WalVSIre.loc[(WalVSIre['HomeTeam'] == 'Ireland')]\n",
    "len(WinHome) / len(Home)"
   ]
  },
  {
   "cell_type": "markdown",
   "metadata": {},
   "source": [
    "**Among all matchup while Ireland as home team and Wales as away team, the winning percentage of Ireland is around 45%.**"
   ]
  },
  {
   "cell_type": "markdown",
   "metadata": {},
   "source": [
    "### Wales vs Scotland"
   ]
  },
  {
   "cell_type": "code",
   "execution_count": 71,
   "metadata": {
    "scrolled": true
   },
   "outputs": [
    {
     "data": {
      "text/html": [
       "<div>\n",
       "<style scoped>\n",
       "    .dataframe tbody tr th:only-of-type {\n",
       "        vertical-align: middle;\n",
       "    }\n",
       "\n",
       "    .dataframe tbody tr th {\n",
       "        vertical-align: top;\n",
       "    }\n",
       "\n",
       "    .dataframe thead th {\n",
       "        text-align: right;\n",
       "    }\n",
       "</style>\n",
       "<table border=\"1\" class=\"dataframe\">\n",
       "  <thead>\n",
       "    <tr style=\"text-align: right;\">\n",
       "      <th></th>\n",
       "      <th>Unnamed: 0</th>\n",
       "      <th>HomeTeam</th>\n",
       "      <th>Score</th>\n",
       "      <th>AwayTeam</th>\n",
       "      <th>Date</th>\n",
       "      <th>Ground</th>\n",
       "      <th>Home</th>\n",
       "      <th>Away</th>\n",
       "    </tr>\n",
       "  </thead>\n",
       "  <tbody>\n",
       "    <tr>\n",
       "      <th>0</th>\n",
       "      <td>0</td>\n",
       "      <td>Wales</td>\n",
       "      <td>51 - 3</td>\n",
       "      <td>Scotland</td>\n",
       "      <td>2014-03-15</td>\n",
       "      <td>Millennium Stadium Cardiff, Wales</td>\n",
       "      <td>51</td>\n",
       "      <td>3</td>\n",
       "    </tr>\n",
       "    <tr>\n",
       "      <th>1</th>\n",
       "      <td>1</td>\n",
       "      <td>Wales</td>\n",
       "      <td>27 - 13</td>\n",
       "      <td>Scotland</td>\n",
       "      <td>2012-02-12</td>\n",
       "      <td>Millennium Stadium Cardiff, Wales</td>\n",
       "      <td>27</td>\n",
       "      <td>13</td>\n",
       "    </tr>\n",
       "    <tr>\n",
       "      <th>2</th>\n",
       "      <td>2</td>\n",
       "      <td>Wales</td>\n",
       "      <td>31 - 24</td>\n",
       "      <td>Scotland</td>\n",
       "      <td>2010-02-13</td>\n",
       "      <td>Millennium Stadium Cardiff, Wales</td>\n",
       "      <td>31</td>\n",
       "      <td>24</td>\n",
       "    </tr>\n",
       "    <tr>\n",
       "      <th>3</th>\n",
       "      <td>3</td>\n",
       "      <td>Wales</td>\n",
       "      <td>30 - 15</td>\n",
       "      <td>Scotland</td>\n",
       "      <td>2008-02-09</td>\n",
       "      <td>Millennium Stadium Cardiff, Wales</td>\n",
       "      <td>30</td>\n",
       "      <td>15</td>\n",
       "    </tr>\n",
       "    <tr>\n",
       "      <th>4</th>\n",
       "      <td>4</td>\n",
       "      <td>Wales</td>\n",
       "      <td>28 - 18</td>\n",
       "      <td>Scotland</td>\n",
       "      <td>2006-02-12</td>\n",
       "      <td>Millennium Stadium Cardiff, Wales</td>\n",
       "      <td>28</td>\n",
       "      <td>18</td>\n",
       "    </tr>\n",
       "  </tbody>\n",
       "</table>\n",
       "</div>"
      ],
      "text/plain": [
       "   Unnamed: 0 HomeTeam    Score  AwayTeam       Date  \\\n",
       "0           0    Wales   51 - 3  Scotland 2014-03-15   \n",
       "1           1    Wales  27 - 13  Scotland 2012-02-12   \n",
       "2           2    Wales  31 - 24  Scotland 2010-02-13   \n",
       "3           3    Wales  30 - 15  Scotland 2008-02-09   \n",
       "4           4    Wales  28 - 18  Scotland 2006-02-12   \n",
       "\n",
       "                              Ground  Home  Away  \n",
       "0  Millennium Stadium Cardiff, Wales    51     3  \n",
       "1  Millennium Stadium Cardiff, Wales    27    13  \n",
       "2  Millennium Stadium Cardiff, Wales    31    24  \n",
       "3  Millennium Stadium Cardiff, Wales    30    15  \n",
       "4  Millennium Stadium Cardiff, Wales    28    18  "
      ]
     },
     "execution_count": 71,
     "metadata": {},
     "output_type": "execute_result"
    }
   ],
   "source": [
    "temp = WalVSSco[['Score']]\n",
    "temp = temp['Score'].str.split(\" - \", expand = True)\n",
    "temp.columns = ['Home', 'Away']\n",
    "temp.Home = temp.Home.astype(int)\n",
    "temp.Away = temp.Away.astype(int)\n",
    "WalVSSco = WalVSSco.join(temp)\n",
    "WalVSSco.head()"
   ]
  },
  {
   "cell_type": "code",
   "execution_count": 72,
   "metadata": {},
   "outputs": [
    {
     "data": {
      "image/png": "[encoded data removed]",
      "text/plain": [
       "<Figure size 1440x216 with 1 Axes>"
      ]
     },
     "metadata": {
      "needs_background": "light"
     },
     "output_type": "display_data"
    }
   ],
   "source": [
    "# Home team's scoring by year (negetive scores mean losing the game)\n",
    "\n",
    "data = WalVSSco[['Home','Away','Date']].sort_values(by=['Date'])\n",
    "data['Home_Win'] = data['Home'] - (data['Away'])\n",
    "data.plot('Date','Home_Win',subplots=True,figsize=(20,3)) \n",
    "plt.show()"
   ]
  },
  {
   "cell_type": "code",
   "execution_count": 73,
   "metadata": {},
   "outputs": [
    {
     "data": {
      "text/plain": [
       "0.7419354838709677"
      ]
     },
     "execution_count": 73,
     "metadata": {},
     "output_type": "execute_result"
    }
   ],
   "source": [
    "# Percentage of Wales VS Scotland and Wales won as home team\n",
    "\n",
    "WinHome = WalVSSco.loc[(WalVSSco['Home'] > WalVSSco['Away']) & (WalVSSco['HomeTeam'] == 'Wales')]\n",
    "Home = WalVSSco.loc[(WalVSSco['HomeTeam'] == 'Wales')]\n",
    "len(WinHome) / len(Home)"
   ]
  },
  {
   "cell_type": "markdown",
   "metadata": {},
   "source": [
    "**Among all matchup while Wales as home team and Scotland as away team, the winning percentage of Wales is around 74%.**"
   ]
  },
  {
   "cell_type": "code",
   "execution_count": 74,
   "metadata": {
    "scrolled": true
   },
   "outputs": [
    {
     "data": {
      "text/plain": [
       "0.532258064516129"
      ]
     },
     "execution_count": 74,
     "metadata": {},
     "output_type": "execute_result"
    }
   ],
   "source": [
    "# Percentage of Wales VS Scotland and Scotland won as home team\n",
    "\n",
    "WinHome = WalVSSco.loc[(WalVSSco['Home'] > WalVSSco['Away']) & (WalVSSco['HomeTeam'] == 'Scotland')]\n",
    "Home = WalVSSco.loc[(WalVSSco['HomeTeam'] == 'Scotland')]\n",
    "len(WinHome) / len(Home)"
   ]
  },
  {
   "cell_type": "markdown",
   "metadata": {},
   "source": [
    "**Among all matchup while Scotland as home team and Wales as away team, the winning percentage of Scotland is around 53%.**"
   ]
  }
 ],
 "metadata": {
  "kernelspec": {
   "display_name": "Python 3",
   "language": "python",
   "name": "python3"
  },
  "language_info": {
   "codemirror_mode": {
    "name": "ipython",
    "version": 3
   },
   "file_extension": ".py",
   "mimetype": "text/x-python",
   "name": "python",
   "nbconvert_exporter": "python",
   "pygments_lexer": "ipython3",
   "version": "3.7.1"
  }
 },
 "nbformat": 4,
 "nbformat_minor": 2
}
